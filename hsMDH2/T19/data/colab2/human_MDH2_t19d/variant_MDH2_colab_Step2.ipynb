{
  "cells": [
    {
      "cell_type": "markdown",
      "metadata": {
        "id": "pj2BWZxUDbEE"
      },
      "source": [
        "# **Introduction**\n",
        "\n",
        "Welcome to the world of Molecular Dynamics! This lesson is to teach you the basic protocol of analyzing a molecular dynamics (MD) simulation, including a bit of Python coding. If you don't know how to code, don't worry! These lessons assume no prior knowledge of code or Python.\n",
        "\n",
        "If you have not completed Step 1 and would like to do so, click this link: https://colab.research.google.com/drive/1vKxP4MJhdIODzScluSeU73NHOWwJIPn8?usp=sharing\n",
        "\n",
        "## Analyzing molecular dynamics\n",
        "MD simulates the motion of molecules and can describe how the structure changes over time. The analysis of molecular dynamics extracts properties from the \"movie\" of the molecule such as how mobile areas of the molecule were and how the pKa values of certain functional groups can vary as the molecule moves. This information can help describe the mechanism of action as conformational changes in enzymes are linked to catalytic activity and pKa is related to nucleophilicty.\n",
        "\n",
        "## What will I get from this Colab?\n",
        "The first steps of the colab show whether the molecule reached equilibrium during the simulation, which indicates how reliable or confidently you can interpret the rest of the values. The second section of the Colab describes which areas of the molecule are most dynamic. Finally, the code will calculate the pKa values for each frame of the simulation to show pKa values over time. These values and outputs can be compared to simulations of mutants or the protein with ligands to determine how these changes to the simulation environment alter the dynamics of the molecule.\n",
        "\n",
        "[Guide video for using this colab](https://www.loom.com/share/cb783e87ba294bee916d0fd1e0847fee?sid=ac7a0852-00c7-4cc9-b2b1-cd142ee9b7fc)\n",
        "\n",
        "\n",
        "\n",
        "---\n",
        "\n"
      ],
      "id": "pj2BWZxUDbEE"
    },
    {
      "cell_type": "markdown",
      "source": [
        "\n",
        "####**Please make a copy of this colab for your personal use!!**\n",
        "\n",
        "A few things to start:\n",
        "\n",
        "1.   These lessons only work in Google Chrome\n",
        "2.   If you want to save your progress, go to File> Save a Copy in Drive; then locate a spot in your Drive folder\n",
        "3.   Clicking the \"play\" button to the top left of a code block runs the code. Sometimes you can see the code and interact with it. However, if the code is hidden  it is to run adminstrative tasks in the background and you do not need to worry unless you are interested.\n",
        "4. Sometimes the code may be hidden from view. To view it, click the '>' on the left of the title, until it changes to 'v'. This will reveal the code in that line.\n",
        "\n",
        "Here are the files you will need for this code to run:\n",
        "*   **.dcd** is a file format that store simulation trajectories. Simulation trajectories are a dynamic view of various properties in your protein, including atom coordinates, box size, velocities, and forces. Trajectory files looks at these variables as they change throughout time. You should have this file from your MD run in step 1.\n",
        "*  A .pdb file containing a set of atomic coordinates of your molecule. **.pdb** stands for a Protein Data Bank file. It is a file containing the three-dimensional structural data of your protein directly from the Protein Data Bank. If you run into errors with your PDB file, ask your instructor. You should have this file from your MD run in step 1.\n",
        "\n",
        "If you want to remove waters from your files (you may want this if you did not use the Step 1 colab), you will need a .prmtop file:\n",
        "*  **.prmtop** is the topology of your protein. Toplogy means how the atoms connect together and the location of each atom. You should have this file from Step 1.\n",
        "\n",
        "If you would like a tutorial on Python basics, please reference [this colab](https://colab.research.google.com/drive/1UVupXh23ArJp2F9vqTmkVh0JnjEaemi1?usp=sharing ). It is not necessary to do this, however if you are interested in learning more about coding it is a great resource to use!\n",
        "\n",
        "This should take approximately 30 minutes to run.\n",
        "\n",
        "---\n",
        "\n",
        "**Acknowledgments**\n",
        "- Colab developed by **Angela Kayll, Angelina Sardelli, and Christopher Berndsen** at James Madison University (ver 1 2024) with input and feedback from students in CHEM260 and members of the [MCC community](https://www.mdhcures.org/).\n"
      ],
      "metadata": {
        "id": "u77m5v6ie-0Z"
      },
      "id": "u77m5v6ie-0Z"
    },
    {
      "cell_type": "code",
      "source": [
        "#@title **1a. Install Conda Colab**\n",
        "#@markdown Press PLAY. It will restart the kernel (session), don't worry. But do not start\n",
        "#@markdown any other cells until this one finishes!\n",
        "!pip install -q condacolab\n",
        "import condacolab\n",
        "condacolab.install()"
      ],
      "metadata": {
        "id": "mBFASF7ICxWi",
        "cellView": "form",
        "colab": {
          "base_uri": "https://localhost:8080/"
        },
        "outputId": "c111b73d-e80e-43f3-cc33-2a655201c5ca"
      },
      "execution_count": null,
      "outputs": [
        {
          "output_type": "stream",
          "name": "stdout",
          "text": [
            "✨🍰✨ Everything looks OK!\n"
          ]
        }
      ],
      "id": "mBFASF7ICxWi"
    },
    {
      "cell_type": "code",
      "execution_count": null,
      "id": "30437f46",
      "metadata": {
        "id": "30437f46",
        "cellView": "form",
        "colab": {
          "base_uri": "https://localhost:8080/"
        },
        "outputId": "4ead99c5-42f8-41c7-a40e-33b671e69671"
      },
      "outputs": [
        {
          "output_type": "stream",
          "name": "stdout",
          "text": [
            "\u001b[2K     \u001b[90m━━━━━━━━━━━━━━━━━━━━━━━━━━━━━━━━━━━━━━━━\u001b[0m \u001b[32m61.0/61.0 kB\u001b[0m \u001b[31m3.2 MB/s\u001b[0m eta \u001b[36m0:00:00\u001b[0m\n",
            "\u001b[2K     \u001b[90m━━━━━━━━━━━━━━━━━━━━━━━━━━━━━━━━━━━━━━━━\u001b[0m \u001b[32m60.8/60.8 kB\u001b[0m \u001b[31m3.8 MB/s\u001b[0m eta \u001b[36m0:00:00\u001b[0m\n",
            "\u001b[2K   \u001b[90m━━━━━━━━━━━━━━━━━━━━━━━━━━━━━━━━━━━━━━━━\u001b[0m \u001b[32m7.4/7.4 MB\u001b[0m \u001b[31m69.1 MB/s\u001b[0m eta \u001b[36m0:00:00\u001b[0m\n",
            "\u001b[2K   \u001b[90m━━━━━━━━━━━━━━━━━━━━━━━━━━━━━━━━━━━━━━━━\u001b[0m \u001b[32m18.2/18.2 MB\u001b[0m \u001b[31m80.9 MB/s\u001b[0m eta \u001b[36m0:00:00\u001b[0m\n",
            "\u001b[2K   \u001b[90m━━━━━━━━━━━━━━━━━━━━━━━━━━━━━━━━━━━━━━━━\u001b[0m \u001b[32m106.9/106.9 kB\u001b[0m \u001b[31m9.8 MB/s\u001b[0m eta \u001b[36m0:00:00\u001b[0m\n",
            "\u001b[2K   \u001b[90m━━━━━━━━━━━━━━━━━━━━━━━━━━━━━━━━━━━━━━━━\u001b[0m \u001b[32m41.2/41.2 MB\u001b[0m \u001b[31m18.9 MB/s\u001b[0m eta \u001b[36m0:00:00\u001b[0m\n",
            "\u001b[2K     \u001b[90m━━━━━━━━━━━━━━━━━━━━━━━━━━━━━━━━━━━━━━━━\u001b[0m \u001b[32m164.5/164.5 kB\u001b[0m \u001b[31m4.9 MB/s\u001b[0m eta \u001b[36m0:00:00\u001b[0m\n",
            "\u001b[2K   \u001b[90m━━━━━━━━━━━━━━━━━━━━━━━━━━━━━━━━━━━━━━━━\u001b[0m \u001b[32m8.3/8.3 MB\u001b[0m \u001b[31m83.7 MB/s\u001b[0m eta \u001b[36m0:00:00\u001b[0m\n",
            "\u001b[2K   \u001b[90m━━━━━━━━━━━━━━━━━━━━━━━━━━━━━━━━━━━━━━━━\u001b[0m \u001b[32m325.0/325.0 kB\u001b[0m \u001b[31m28.8 MB/s\u001b[0m eta \u001b[36m0:00:00\u001b[0m\n",
            "\u001b[2K   \u001b[90m━━━━━━━━━━━━━━━━━━━━━━━━━━━━━━━━━━━━━━━━\u001b[0m \u001b[32m4.6/4.6 MB\u001b[0m \u001b[31m82.3 MB/s\u001b[0m eta \u001b[36m0:00:00\u001b[0m\n",
            "\u001b[2K   \u001b[90m━━━━━━━━━━━━━━━━━━━━━━━━━━━━━━━━━━━━━━━━\u001b[0m \u001b[32m1.6/1.6 MB\u001b[0m \u001b[31m65.0 MB/s\u001b[0m eta \u001b[36m0:00:00\u001b[0m\n",
            "\u001b[2K   \u001b[90m━━━━━━━━━━━━━━━━━━━━━━━━━━━━━━━━━━━━━━━━\u001b[0m \u001b[32m4.4/4.4 MB\u001b[0m \u001b[31m89.1 MB/s\u001b[0m eta \u001b[36m0:00:00\u001b[0m\n",
            "\u001b[2K   \u001b[90m━━━━━━━━━━━━━━━━━━━━━━━━━━━━━━━━━━━━━━━━\u001b[0m \u001b[32m229.9/229.9 kB\u001b[0m \u001b[31m18.3 MB/s\u001b[0m eta \u001b[36m0:00:00\u001b[0m\n",
            "\u001b[2K     \u001b[90m━━━━━━━━━━━━━━━━━━━━━━━━━━━━━━━━━━━━━━━━\u001b[0m \u001b[32m108.5/108.5 kB\u001b[0m \u001b[31m3.7 MB/s\u001b[0m eta \u001b[36m0:00:00\u001b[0m\n",
            "\u001b[2K   \u001b[90m━━━━━━━━━━━━━━━━━━━━━━━━━━━━━━━━━━━━━━━━\u001b[0m \u001b[32m12.5/12.5 MB\u001b[0m \u001b[31m91.1 MB/s\u001b[0m eta \u001b[36m0:00:00\u001b[0m\n",
            "\u001b[2K   \u001b[90m━━━━━━━━━━━━━━━━━━━━━━━━━━━━━━━━━━━━━━━━\u001b[0m \u001b[32m2.1/2.1 MB\u001b[0m \u001b[31m33.5 MB/s\u001b[0m eta \u001b[36m0:00:00\u001b[0m\n",
            "\u001b[2K   \u001b[90m━━━━━━━━━━━━━━━━━━━━━━━━━━━━━━━━━━━━━━━━\u001b[0m \u001b[32m301.8/301.8 kB\u001b[0m \u001b[31m26.9 MB/s\u001b[0m eta \u001b[36m0:00:00\u001b[0m\n",
            "\u001b[2K   \u001b[90m━━━━━━━━━━━━━━━━━━━━━━━━━━━━━━━━━━━━━━━━\u001b[0m \u001b[32m3.7/3.7 MB\u001b[0m \u001b[31m84.0 MB/s\u001b[0m eta \u001b[36m0:00:00\u001b[0m\n",
            "\u001b[2K   \u001b[90m━━━━━━━━━━━━━━━━━━━━━━━━━━━━━━━━━━━━━━━━\u001b[0m \u001b[32m48.8/48.8 kB\u001b[0m \u001b[31m4.6 MB/s\u001b[0m eta \u001b[36m0:00:00\u001b[0m\n",
            "\u001b[2K   \u001b[90m━━━━━━━━━━━━━━━━━━━━━━━━━━━━━━━━━━━━━━━━\u001b[0m \u001b[32m378.0/378.0 kB\u001b[0m \u001b[31m30.5 MB/s\u001b[0m eta \u001b[36m0:00:00\u001b[0m\n",
            "\u001b[2K   \u001b[90m━━━━━━━━━━━━━━━━━━━━━━━━━━━━━━━━━━━━━━━━\u001b[0m \u001b[32m44.8/44.8 kB\u001b[0m \u001b[31m3.9 MB/s\u001b[0m eta \u001b[36m0:00:00\u001b[0m\n",
            "\u001b[2K     \u001b[90m━━━━━━━━━━━━━━━━━━━━━━━━━━━━━━━━━━━━━━━━\u001b[0m \u001b[32m89.9/89.9 kB\u001b[0m \u001b[31m3.0 MB/s\u001b[0m eta \u001b[36m0:00:00\u001b[0m\n",
            "\u001b[2K   \u001b[90m━━━━━━━━━━━━━━━━━━━━━━━━━━━━━━━━━━━━━━━━\u001b[0m \u001b[32m13.1/13.1 MB\u001b[0m \u001b[31m93.0 MB/s\u001b[0m eta \u001b[36m0:00:00\u001b[0m\n",
            "\u001b[2K   \u001b[90m━━━━━━━━━━━━━━━━━━━━━━━━━━━━━━━━━━━━━━━━\u001b[0m \u001b[32m508.0/508.0 kB\u001b[0m \u001b[31m36.7 MB/s\u001b[0m eta \u001b[36m0:00:00\u001b[0m\n",
            "\u001b[2K   \u001b[90m━━━━━━━━━━━━━━━━━━━━━━━━━━━━━━━━━━━━━━━━\u001b[0m \u001b[32m346.6/346.6 kB\u001b[0m \u001b[31m28.9 MB/s\u001b[0m eta \u001b[36m0:00:00\u001b[0m\n",
            "\u001b[2K   \u001b[90m━━━━━━━━━━━━━━━━━━━━━━━━━━━━━━━━━━━━━━━━\u001b[0m \u001b[32m294.9/294.9 kB\u001b[0m \u001b[31m8.8 MB/s\u001b[0m eta \u001b[36m0:00:00\u001b[0m\n",
            "\u001b[2K     \u001b[90m━━━━━━━━━━━━━━━━━━━━━━━━━━━━━━━━━━━━━━━━\u001b[0m \u001b[32m69.0/69.0 kB\u001b[0m \u001b[31m4.0 MB/s\u001b[0m eta \u001b[36m0:00:00\u001b[0m\n",
            "\u001b[?25h  Preparing metadata (setup.py) ... \u001b[?25l\u001b[?25hdone\n",
            "\u001b[2K   \u001b[90m━━━━━━━━━━━━━━━━━━━━━━━━━━━━━━━━━━━━━━━━\u001b[0m \u001b[32m391.6/391.6 kB\u001b[0m \u001b[31m14.9 MB/s\u001b[0m eta \u001b[36m0:00:00\u001b[0m\n",
            "\u001b[?25h  Building wheel for propka (setup.py) ... \u001b[?25l\u001b[?25hdone\n"
          ]
        }
      ],
      "source": [
        "#@title **1b. Install and load dependencies**\n",
        "#@markdown Press PLAY **after** the above cell has completed and the session restarted.\n",
        "#@markdown This will take a few minutes.\n",
        "!pip install -q mdtraj\n",
        "!pip install -q matplotlib\n",
        "!pip install --upgrade MDAnalysis --quiet\n",
        "!pip install -q pandas\n",
        "!pip install -q seaborn\n",
        "!pip install -q propkatraj\n",
        "\n",
        "import pandas as pd\n",
        "import mdtraj as md\n",
        "import matplotlib.pyplot as pp\n",
        "import MDAnalysis as mda\n",
        "from MDAnalysis.analysis import rms, align, diffusionmap\n",
        "import seaborn as sns\n",
        "from propkatraj import PropkaTraj"
      ]
    },
    {
      "cell_type": "markdown",
      "source": [
        "Once both of the above have run, *then* you can begin analyzing the trajectory.\n",
        "\n",
        "1.   Click on the file folder on the left side\n",
        "2.   **Right-click**, bring up the actions menu, and create a folder. Name this folder \"data\".\n",
        "3. Upload the .dcd file and the .pdb file. Put these files in the \"data\" folder. The .dcd files are often large so be patient.\n",
        "4.   **Right-click**, bring up the actions menu, and create a folder. Name this folder \"outputs\". This is where we will put any output files or figures. **Remember to download all of these files when done.**\n",
        "5.  I'll provide instructions on the basic commands and analyses, if you add more remember to save what you are doing.\n",
        "\n",
        "\n"
      ],
      "metadata": {
        "id": "xK45Gt3OOePt"
      },
      "id": "xK45Gt3OOePt"
    },
    {
      "cell_type": "markdown",
      "source": [
        "##If you do not need to remove waters, then proceed with the steps below!\n",
        "\n",
        "# Removing waters\n",
        "Unless you are specifically interested in the waters (and they often are interesting to look at), they are generally removed from the files. This helps reduce the file size and keeping track of all the components of the simulation. The Step 1 colab typically removes the waters automatically, however, **if you are bring a file from a different source OR chose not to remove the waters and need to, there is code at the very bottom which allows you to do this.**\n",
        "\n",
        "**If you do not need to remove waters, then proceed with the steps below**\n",
        "\n",
        "\n",
        "\n",
        "---\n",
        "\n",
        "## 1c Load the data\n",
        "Change the filenames to match the names of the uploaded files. Remember to wait until the uploads have completed before running this box."
      ],
      "metadata": {
        "id": "zKwyZTnOuMB6"
      },
      "id": "zKwyZTnOuMB6"
    },
    {
      "cell_type": "code",
      "execution_count": null,
      "id": "51566c16",
      "metadata": {
        "id": "51566c16",
        "colab": {
          "base_uri": "https://localhost:8080/"
        },
        "outputId": "77b69193-7aea-4741-ffc8-74f6a217f636"
      },
      "outputs": [
        {
          "output_type": "stream",
          "name": "stderr",
          "text": [
            "/usr/local/lib/python3.10/site-packages/MDAnalysis/coordinates/DCD.py:165: DeprecationWarning: DCDReader currently makes independent timesteps by copying self.ts while other readers update self.ts inplace. This behavior will be changed in 3.0 to be the same as other readers. Read more at https://github.com/MDAnalysis/mdanalysis/issues/3889 to learn if this change in behavior might affect you.\n",
            "  warnings.warn(\"DCDReader currently makes independent timesteps\"\n"
          ]
        }
      ],
      "source": [
        "\n",
        "# these are the names of your files, replace the \"xxx\" with your file name\n",
        "dcd = 'data/variant_prod1-1_nw.dcd'\n",
        "pdb = \"data/variant_prod_nw.pdb\"\n",
        "u = mda.Universe(pdb, dcd)"
      ]
    },
    {
      "cell_type": "markdown",
      "source": [
        "# Analysis of the trajectory\n",
        "We will use the MDAnalysis package to do the analysis and Matplotlib to plot our results. In the first step we will load the no solvent trajectory file that we made previously and use the pdb file from above to define the system.\n",
        "\n",
        "---\n",
        "## 2. RMSD analysis\n",
        "\n",
        "For the **first box**, it will load your .dcd and .pdb files. Change the file names in the area labeled \"xxx\" to the names of your files.\n",
        "\n",
        "For the **second box**, it will calculate your root mean square deviation (RMSD), which will indicate how much your trajectory changed from the start to the end of your simulation. You do not need to edit anything in this box unless your instructor tells you to.\n",
        "\n",
        "For the **third box**, it will make a pretty visualization of your RMSD results and save it as a CSV file. It will also show you the first five rows of data to allow you to assess the quality of the output. You do not need to edit anything in this box unless your instructor tells you to.\n",
        "\n",
        "For the **fourth box**, it will plot your data as a png file. The RMSD plot gives a sense of whether the protein has reached a fixed state over the simulation, but it is not particularly good at comparing the structures overall. You do not need to edit anything in this box unless your instructor tells you to."
      ],
      "metadata": {
        "id": "AgRQtDRbanJf"
      },
      "id": "AgRQtDRbanJf"
    },
    {
      "cell_type": "code",
      "execution_count": null,
      "id": "cd10f1be",
      "metadata": {
        "id": "cd10f1be"
      },
      "outputs": [],
      "source": [
        "# calculate rmsd\n",
        "# RMSD = root mean square deviation, and indicates how much the trajectory changed from start to end\n",
        "u.trajectory[0] # set to first frame\n",
        "rmsd_analysis = rms.RMSD(u, select='backbone', groupselections=['name CA', 'protein']) # select the areas to analyze, in this case the protein backbone atoms\n",
        "rmsd_analysis.run(); # run the analysis"
      ]
    },
    {
      "cell_type": "code",
      "source": [
        "# make a pretty data frame using pandas\n",
        "rmsd_df = pd.DataFrame(rmsd_analysis.results.rmsd[:, 1:],\n",
        "                       columns=['time', 'Backbone', 'C-alphas', 'Protein'])\n",
        "\n",
        "# save this information as a CSV file\n",
        "rmsd_df.to_csv('outputs/RMSD_df.csv')\n",
        "\n",
        "# show the first five rows to make sure it looks right\n",
        "rmsd_df.head()"
      ],
      "metadata": {
        "id": "BNPu-13PZdYb",
        "colab": {
          "base_uri": "https://localhost:8080/",
          "height": 206
        },
        "outputId": "7834c777-2b25-4674-f147-3378cc2d90b1"
      },
      "id": "BNPu-13PZdYb",
      "execution_count": null,
      "outputs": [
        {
          "output_type": "execute_result",
          "data": {
            "text/plain": [
              "   time  Backbone      C-alphas       Protein\n",
              "0   0.0  0.000002  2.200787e-07  2.223790e-07\n",
              "1   1.0  1.288684  1.276326e+00  1.742361e+00\n",
              "2   2.0  1.682704  1.689724e+00  2.091049e+00\n",
              "3   3.0  2.040015  2.050741e+00  2.432096e+00\n",
              "4   4.0  2.375579  2.389209e+00  2.742343e+00"
            ],
            "text/html": [
              "\n",
              "  <div id=\"df-3a11144f-0da7-4b78-b132-ced31efbe992\" class=\"colab-df-container\">\n",
              "    <div>\n",
              "<style scoped>\n",
              "    .dataframe tbody tr th:only-of-type {\n",
              "        vertical-align: middle;\n",
              "    }\n",
              "\n",
              "    .dataframe tbody tr th {\n",
              "        vertical-align: top;\n",
              "    }\n",
              "\n",
              "    .dataframe thead th {\n",
              "        text-align: right;\n",
              "    }\n",
              "</style>\n",
              "<table border=\"1\" class=\"dataframe\">\n",
              "  <thead>\n",
              "    <tr style=\"text-align: right;\">\n",
              "      <th></th>\n",
              "      <th>time</th>\n",
              "      <th>Backbone</th>\n",
              "      <th>C-alphas</th>\n",
              "      <th>Protein</th>\n",
              "    </tr>\n",
              "  </thead>\n",
              "  <tbody>\n",
              "    <tr>\n",
              "      <th>0</th>\n",
              "      <td>0.0</td>\n",
              "      <td>0.000002</td>\n",
              "      <td>2.200787e-07</td>\n",
              "      <td>2.223790e-07</td>\n",
              "    </tr>\n",
              "    <tr>\n",
              "      <th>1</th>\n",
              "      <td>1.0</td>\n",
              "      <td>1.288684</td>\n",
              "      <td>1.276326e+00</td>\n",
              "      <td>1.742361e+00</td>\n",
              "    </tr>\n",
              "    <tr>\n",
              "      <th>2</th>\n",
              "      <td>2.0</td>\n",
              "      <td>1.682704</td>\n",
              "      <td>1.689724e+00</td>\n",
              "      <td>2.091049e+00</td>\n",
              "    </tr>\n",
              "    <tr>\n",
              "      <th>3</th>\n",
              "      <td>3.0</td>\n",
              "      <td>2.040015</td>\n",
              "      <td>2.050741e+00</td>\n",
              "      <td>2.432096e+00</td>\n",
              "    </tr>\n",
              "    <tr>\n",
              "      <th>4</th>\n",
              "      <td>4.0</td>\n",
              "      <td>2.375579</td>\n",
              "      <td>2.389209e+00</td>\n",
              "      <td>2.742343e+00</td>\n",
              "    </tr>\n",
              "  </tbody>\n",
              "</table>\n",
              "</div>\n",
              "    <div class=\"colab-df-buttons\">\n",
              "\n",
              "  <div class=\"colab-df-container\">\n",
              "    <button class=\"colab-df-convert\" onclick=\"convertToInteractive('df-3a11144f-0da7-4b78-b132-ced31efbe992')\"\n",
              "            title=\"Convert this dataframe to an interactive table.\"\n",
              "            style=\"display:none;\">\n",
              "\n",
              "  <svg xmlns=\"http://www.w3.org/2000/svg\" height=\"24px\" viewBox=\"0 -960 960 960\">\n",
              "    <path d=\"M120-120v-720h720v720H120Zm60-500h600v-160H180v160Zm220 220h160v-160H400v160Zm0 220h160v-160H400v160ZM180-400h160v-160H180v160Zm440 0h160v-160H620v160ZM180-180h160v-160H180v160Zm440 0h160v-160H620v160Z\"/>\n",
              "  </svg>\n",
              "    </button>\n",
              "\n",
              "  <style>\n",
              "    .colab-df-container {\n",
              "      display:flex;\n",
              "      gap: 12px;\n",
              "    }\n",
              "\n",
              "    .colab-df-convert {\n",
              "      background-color: #E8F0FE;\n",
              "      border: none;\n",
              "      border-radius: 50%;\n",
              "      cursor: pointer;\n",
              "      display: none;\n",
              "      fill: #1967D2;\n",
              "      height: 32px;\n",
              "      padding: 0 0 0 0;\n",
              "      width: 32px;\n",
              "    }\n",
              "\n",
              "    .colab-df-convert:hover {\n",
              "      background-color: #E2EBFA;\n",
              "      box-shadow: 0px 1px 2px rgba(60, 64, 67, 0.3), 0px 1px 3px 1px rgba(60, 64, 67, 0.15);\n",
              "      fill: #174EA6;\n",
              "    }\n",
              "\n",
              "    .colab-df-buttons div {\n",
              "      margin-bottom: 4px;\n",
              "    }\n",
              "\n",
              "    [theme=dark] .colab-df-convert {\n",
              "      background-color: #3B4455;\n",
              "      fill: #D2E3FC;\n",
              "    }\n",
              "\n",
              "    [theme=dark] .colab-df-convert:hover {\n",
              "      background-color: #434B5C;\n",
              "      box-shadow: 0px 1px 3px 1px rgba(0, 0, 0, 0.15);\n",
              "      filter: drop-shadow(0px 1px 2px rgba(0, 0, 0, 0.3));\n",
              "      fill: #FFFFFF;\n",
              "    }\n",
              "  </style>\n",
              "\n",
              "    <script>\n",
              "      const buttonEl =\n",
              "        document.querySelector('#df-3a11144f-0da7-4b78-b132-ced31efbe992 button.colab-df-convert');\n",
              "      buttonEl.style.display =\n",
              "        google.colab.kernel.accessAllowed ? 'block' : 'none';\n",
              "\n",
              "      async function convertToInteractive(key) {\n",
              "        const element = document.querySelector('#df-3a11144f-0da7-4b78-b132-ced31efbe992');\n",
              "        const dataTable =\n",
              "          await google.colab.kernel.invokeFunction('convertToInteractive',\n",
              "                                                    [key], {});\n",
              "        if (!dataTable) return;\n",
              "\n",
              "        const docLinkHtml = 'Like what you see? Visit the ' +\n",
              "          '<a target=\"_blank\" href=https://colab.research.google.com/notebooks/data_table.ipynb>data table notebook</a>'\n",
              "          + ' to learn more about interactive tables.';\n",
              "        element.innerHTML = '';\n",
              "        dataTable['output_type'] = 'display_data';\n",
              "        await google.colab.output.renderOutput(dataTable, element);\n",
              "        const docLink = document.createElement('div');\n",
              "        docLink.innerHTML = docLinkHtml;\n",
              "        element.appendChild(docLink);\n",
              "      }\n",
              "    </script>\n",
              "  </div>\n",
              "\n",
              "\n",
              "<div id=\"df-67d2f85b-4beb-4366-bc08-b8f8fb6146de\">\n",
              "  <button class=\"colab-df-quickchart\" onclick=\"quickchart('df-67d2f85b-4beb-4366-bc08-b8f8fb6146de')\"\n",
              "            title=\"Suggest charts\"\n",
              "            style=\"display:none;\">\n",
              "\n",
              "<svg xmlns=\"http://www.w3.org/2000/svg\" height=\"24px\"viewBox=\"0 0 24 24\"\n",
              "     width=\"24px\">\n",
              "    <g>\n",
              "        <path d=\"M19 3H5c-1.1 0-2 .9-2 2v14c0 1.1.9 2 2 2h14c1.1 0 2-.9 2-2V5c0-1.1-.9-2-2-2zM9 17H7v-7h2v7zm4 0h-2V7h2v10zm4 0h-2v-4h2v4z\"/>\n",
              "    </g>\n",
              "</svg>\n",
              "  </button>\n",
              "\n",
              "<style>\n",
              "  .colab-df-quickchart {\n",
              "      --bg-color: #E8F0FE;\n",
              "      --fill-color: #1967D2;\n",
              "      --hover-bg-color: #E2EBFA;\n",
              "      --hover-fill-color: #174EA6;\n",
              "      --disabled-fill-color: #AAA;\n",
              "      --disabled-bg-color: #DDD;\n",
              "  }\n",
              "\n",
              "  [theme=dark] .colab-df-quickchart {\n",
              "      --bg-color: #3B4455;\n",
              "      --fill-color: #D2E3FC;\n",
              "      --hover-bg-color: #434B5C;\n",
              "      --hover-fill-color: #FFFFFF;\n",
              "      --disabled-bg-color: #3B4455;\n",
              "      --disabled-fill-color: #666;\n",
              "  }\n",
              "\n",
              "  .colab-df-quickchart {\n",
              "    background-color: var(--bg-color);\n",
              "    border: none;\n",
              "    border-radius: 50%;\n",
              "    cursor: pointer;\n",
              "    display: none;\n",
              "    fill: var(--fill-color);\n",
              "    height: 32px;\n",
              "    padding: 0;\n",
              "    width: 32px;\n",
              "  }\n",
              "\n",
              "  .colab-df-quickchart:hover {\n",
              "    background-color: var(--hover-bg-color);\n",
              "    box-shadow: 0 1px 2px rgba(60, 64, 67, 0.3), 0 1px 3px 1px rgba(60, 64, 67, 0.15);\n",
              "    fill: var(--button-hover-fill-color);\n",
              "  }\n",
              "\n",
              "  .colab-df-quickchart-complete:disabled,\n",
              "  .colab-df-quickchart-complete:disabled:hover {\n",
              "    background-color: var(--disabled-bg-color);\n",
              "    fill: var(--disabled-fill-color);\n",
              "    box-shadow: none;\n",
              "  }\n",
              "\n",
              "  .colab-df-spinner {\n",
              "    border: 2px solid var(--fill-color);\n",
              "    border-color: transparent;\n",
              "    border-bottom-color: var(--fill-color);\n",
              "    animation:\n",
              "      spin 1s steps(1) infinite;\n",
              "  }\n",
              "\n",
              "  @keyframes spin {\n",
              "    0% {\n",
              "      border-color: transparent;\n",
              "      border-bottom-color: var(--fill-color);\n",
              "      border-left-color: var(--fill-color);\n",
              "    }\n",
              "    20% {\n",
              "      border-color: transparent;\n",
              "      border-left-color: var(--fill-color);\n",
              "      border-top-color: var(--fill-color);\n",
              "    }\n",
              "    30% {\n",
              "      border-color: transparent;\n",
              "      border-left-color: var(--fill-color);\n",
              "      border-top-color: var(--fill-color);\n",
              "      border-right-color: var(--fill-color);\n",
              "    }\n",
              "    40% {\n",
              "      border-color: transparent;\n",
              "      border-right-color: var(--fill-color);\n",
              "      border-top-color: var(--fill-color);\n",
              "    }\n",
              "    60% {\n",
              "      border-color: transparent;\n",
              "      border-right-color: var(--fill-color);\n",
              "    }\n",
              "    80% {\n",
              "      border-color: transparent;\n",
              "      border-right-color: var(--fill-color);\n",
              "      border-bottom-color: var(--fill-color);\n",
              "    }\n",
              "    90% {\n",
              "      border-color: transparent;\n",
              "      border-bottom-color: var(--fill-color);\n",
              "    }\n",
              "  }\n",
              "</style>\n",
              "\n",
              "  <script>\n",
              "    async function quickchart(key) {\n",
              "      const quickchartButtonEl =\n",
              "        document.querySelector('#' + key + ' button');\n",
              "      quickchartButtonEl.disabled = true;  // To prevent multiple clicks.\n",
              "      quickchartButtonEl.classList.add('colab-df-spinner');\n",
              "      try {\n",
              "        const charts = await google.colab.kernel.invokeFunction(\n",
              "            'suggestCharts', [key], {});\n",
              "      } catch (error) {\n",
              "        console.error('Error during call to suggestCharts:', error);\n",
              "      }\n",
              "      quickchartButtonEl.classList.remove('colab-df-spinner');\n",
              "      quickchartButtonEl.classList.add('colab-df-quickchart-complete');\n",
              "    }\n",
              "    (() => {\n",
              "      let quickchartButtonEl =\n",
              "        document.querySelector('#df-67d2f85b-4beb-4366-bc08-b8f8fb6146de button');\n",
              "      quickchartButtonEl.style.display =\n",
              "        google.colab.kernel.accessAllowed ? 'block' : 'none';\n",
              "    })();\n",
              "  </script>\n",
              "</div>\n",
              "\n",
              "    </div>\n",
              "  </div>\n"
            ],
            "application/vnd.google.colaboratory.intrinsic+json": {
              "type": "dataframe",
              "variable_name": "rmsd_df",
              "summary": "{\n  \"name\": \"rmsd_df\",\n  \"rows\": 20,\n  \"fields\": [\n    {\n      \"column\": \"time\",\n      \"properties\": {\n        \"dtype\": \"number\",\n        \"std\": 5.916079977440119,\n        \"min\": 0.0,\n        \"max\": 19.000000624141272,\n        \"num_unique_values\": 20,\n        \"samples\": [\n          0.0,\n          17.000000558442192,\n          15.00000049274311\n        ],\n        \"semantic_type\": \"\",\n        \"description\": \"\"\n      }\n    },\n    {\n      \"column\": \"Backbone\",\n      \"properties\": {\n        \"dtype\": \"number\",\n        \"std\": 0.8182254534029609,\n        \"min\": 2.272962920090553e-06,\n        \"max\": 3.3424382639022,\n        \"num_unique_values\": 20,\n        \"samples\": [\n          2.272962920090553e-06,\n          3.112866396699396,\n          2.9327119526941\n        ],\n        \"semantic_type\": \"\",\n        \"description\": \"\"\n      }\n    },\n    {\n      \"column\": \"C-alphas\",\n      \"properties\": {\n        \"dtype\": \"number\",\n        \"std\": 0.8307112469000156,\n        \"min\": 2.2007868840144232e-07,\n        \"max\": 3.379571733333603,\n        \"num_unique_values\": 20,\n        \"samples\": [\n          2.2007868840144232e-07,\n          3.1536130673538803,\n          2.9751770148405785\n        ],\n        \"semantic_type\": \"\",\n        \"description\": \"\"\n      }\n    },\n    {\n      \"column\": \"Protein\",\n      \"properties\": {\n        \"dtype\": \"number\",\n        \"std\": 0.9030688779404095,\n        \"min\": 2.2237902462429827e-07,\n        \"max\": 3.7685818377212965,\n        \"num_unique_values\": 20,\n        \"samples\": [\n          2.2237902462429827e-07,\n          3.6148538797568173,\n          3.463825031806028\n        ],\n        \"semantic_type\": \"\",\n        \"description\": \"\"\n      }\n    }\n  ]\n}"
            }
          },
          "metadata": {},
          "execution_count": 5
        }
      ]
    },
    {
      "cell_type": "code",
      "execution_count": null,
      "id": "3cfc38c6",
      "metadata": {
        "id": "3cfc38c6",
        "colab": {
          "base_uri": "https://localhost:8080/",
          "height": 454
        },
        "outputId": "ba95e7a2-c53a-4ac5-851b-75223ca79652"
      },
      "outputs": [
        {
          "output_type": "display_data",
          "data": {
            "text/plain": [
              "<Figure size 640x480 with 1 Axes>"
            ],
            "image/png": "[encoded data removed]"
          },
          "metadata": {}
        }
      ],
      "source": [
        "# show the data in frame (you can change the axes values as needed)\n",
        "fig, ax = pp.subplots()\n",
        "ax.plot(rmsd_df['time']/1000, rmsd_df['Backbone'])\n",
        "ax.set(xlabel = 'time (seconds)', ylabel = 'RMSD (Å)')\n",
        "\n",
        "# save the plot\n",
        "pp.savefig('outputs/rmsd_plot.png')"
      ]
    },
    {
      "cell_type": "markdown",
      "source": [
        "The RMSD plot above gives a sense of whether the protein has reached a fixed state over the simulation but is not particularly good at comparing the structures overall. The code below will do a pairwise comparison of all the frames and show the data as a heatmap to suggest if there are conformational changes that appear consistently in your protein. A heatmap is a 2D data visualization technique that shows a visual summary of data across two axis. Consistent conformational changes could suggest a specific function within your protein, as structure = function!\n",
        "\n",
        "\n",
        "\n",
        "---\n",
        "## 3. Pairwise RMSD plot\n"
      ],
      "metadata": {
        "id": "YPtw1RZg-FHx"
      },
      "id": "YPtw1RZg-FHx"
    },
    {
      "cell_type": "code",
      "source": [
        "# align the trajectory to itself pairwise\n",
        "aligner = align.AlignTraj(u, u, select='name CA',\n",
        "                          in_memory=True).run()\n",
        "matrix = diffusionmap.DistanceMatrix(u, select='name CA').run()\n",
        "\n",
        "# plot the pairwise alignment as a distribution\n",
        "pp.imshow(matrix.results.dist_matrix, cmap='viridis')\n",
        "pp.xlabel('Frame')\n",
        "pp.ylabel('Frame')\n",
        "pp.colorbar(label=r'RMSD ($\\AA$)');\n",
        "pp.savefig('outputs/rmsd_compare_plot.png')"
      ],
      "metadata": {
        "id": "wQwFnT82963-",
        "colab": {
          "base_uri": "https://localhost:8080/",
          "height": 449
        },
        "outputId": "ad7a05d0-b514-4d00-9e88-606fb8b46bb1"
      },
      "id": "wQwFnT82963-",
      "execution_count": null,
      "outputs": [
        {
          "output_type": "display_data",
          "data": {
            "text/plain": [
              "<Figure size 640x480 with 2 Axes>"
            ],
            "image/png": "[encoded data removed]"
          },
          "metadata": {}
        }
      ]
    },
    {
      "cell_type": "markdown",
      "source": [
        "\n",
        "\n",
        "---\n",
        "## 4. Root Mean Square Flucuation plot\n",
        "\n",
        "The code below will calculate the root mean square fluctuation, effectively how much motion each amino acid has during the simulation. It is similar to RMSD, except instead of looking at positional differences in the entire structure over time, it will specify the movement/fluctuation of each residue during a simulation.\n",
        "\n",
        "\n",
        "\n",
        "---\n",
        "\n"
      ],
      "metadata": {
        "id": "0_t4Qv5yEVaF"
      },
      "id": "0_t4Qv5yEVaF"
    },
    {
      "cell_type": "code",
      "execution_count": null,
      "id": "97a8a670",
      "metadata": {
        "id": "97a8a670",
        "colab": {
          "base_uri": "https://localhost:8080/",
          "height": 663
        },
        "outputId": "e704f8ec-ac20-44b5-c0d0-697a31380f10"
      },
      "outputs": [
        {
          "output_type": "stream",
          "name": "stderr",
          "text": [
            "/usr/local/lib/python3.10/site-packages/MDAnalysis/analysis/rms.py:904: DeprecationWarning: The `rmsf` attribute was deprecated in MDAnalysis 2.0.0 and will be removed in MDAnalysis 3.0.0. Please use `results.rmsd` instead.\n",
            "  warnings.warn(wmsg, DeprecationWarning)\n"
          ]
        },
        {
          "output_type": "display_data",
          "data": {
            "text/plain": [
              "<Figure size 800x600 with 1 Axes>"
            ],
            "image/png": "[encoded data removed]"
          },
          "metadata": {}
        }
      ],
      "source": [
        "# calculate the root mean square flucuation, effectively how much motion each amino acid has during the simulation\n",
        "calphas = u.select_atoms(\"name CA\") #Commonly the RMSD is computed using the aC of the protein to evaluate protein flucturation respecting the initial coordinates\n",
        "rmsfer = rms.RMSF(calphas,verbose=False).run()\n",
        "RMSF_table=pd.DataFrame(rmsfer.rmsf,index=calphas.resnums,columns=['RMSF']) #Saving the RMSF value for every aC residue\n",
        "# save the data\n",
        "RMSF_table.to_csv(\"outputs/RMSF_df.csv\")\n",
        "\n",
        "# make the plot\n",
        "pp.rcParams['axes.linewidth'] = 1.5\n",
        "fig, ax = pp.subplots(figsize=(8,6))\n",
        "\n",
        "pp.plot(calphas.resnums, rmsfer.rmsf,linewidth=1.5,color='k')\n",
        "\n",
        "pp.xlabel ('Residue Cα',fontsize=16,fontweight='bold')\n",
        "pp.ylabel ('RMSF (Å)',fontsize=16,fontweight='bold')\n",
        "\n",
        "ax.spines['top'].set_visible(False)\n",
        "ax.spines['right'].set_visible(False)\n",
        "\n",
        "pp.tick_params ('both',width=2,labelsize=12)\n",
        "pp.grid (axis='y',alpha=0.5)\n",
        "pp.tight_layout()\n",
        "pp.savefig('outputs/rmsf_plot.png')\n",
        "pp.show()\n",
        "# save the plot\n"
      ]
    },
    {
      "cell_type": "markdown",
      "source": [
        "## 5. Predict pKa values\n",
        "This takes a bit of time (20+ minutes). Produces a spreadsheet of pKa at each step in the trajectory for each amino acid side chain that typically ionizes under biological conditions. The amino acids are indicated by residue number in the protein, so it may not exactly match the sequence numbering if the simulation uses a distinct numbering scheme.\n",
        "The describe cell gives a summary of the trajectory, while the to csv cell saves the entire set of data for plotting.\n",
        "\n",
        "**Make sure to only press PLAY once the previous run is complete!!**"
      ],
      "metadata": {
        "id": "66OkIJNBYeTc"
      },
      "id": "66OkIJNBYeTc"
    },
    {
      "cell_type": "code",
      "source": [
        "pkatraj = PropkaTraj(u, select='protein', skip_failure=False)\n",
        "pkatraj.run()"
      ],
      "metadata": {
        "id": "nUykCI5Upc_1",
        "colab": {
          "base_uri": "https://localhost:8080/"
        },
        "outputId": "2752755e-67a9-47dd-9bec-2605e9b0dbec"
      },
      "id": "nUykCI5Upc_1",
      "execution_count": null,
      "outputs": [
        {
          "output_type": "stream",
          "name": "stderr",
          "text": [
            "/usr/local/lib/python3.10/site-packages/MDAnalysis/coordinates/PDB.py:1154: UserWarning: Found no information for attr: 'formalcharges' Using default value of '0'\n",
            "  warnings.warn(\"Found no information for attr: '{}'\"\n"
          ]
        },
        {
          "output_type": "execute_result",
          "data": {
            "text/plain": [
              "<propkatraj.propkatraj.PropkaTraj at 0x79a1c94020e0>"
            ]
          },
          "metadata": {},
          "execution_count": 17
        }
      ]
    },
    {
      "cell_type": "code",
      "source": [
        "pkatraj.results.pkas.describe()"
      ],
      "metadata": {
        "id": "ovDrmhgdprKD",
        "colab": {
          "base_uri": "https://localhost:8080/",
          "height": 350
        },
        "outputId": "aa4746fd-903c-41a2-e0f0-ddce41c438d0"
      },
      "id": "ovDrmhgdprKD",
      "execution_count": null,
      "outputs": [
        {
          "output_type": "execute_result",
          "data": {
            "text/plain": [
              "             1          7          14         15         19         26   \\\n",
              "count  20.000000  20.000000  20.000000  20.000000  20.000000  20.000000   \n",
              "mean    7.924549  12.381485  12.364658  12.424997   3.724708  10.245760   \n",
              "std     0.006462   0.049933   0.074536   0.044917   0.296933   0.163124   \n",
              "min     7.908349  12.243083  12.223661  12.342925   3.020099   9.925386   \n",
              "25%     7.920865  12.364216  12.313537  12.394455   3.636026  10.146099   \n",
              "50%     7.926111  12.392916  12.369092  12.441047   3.885119  10.265191   \n",
              "75%     7.927691  12.409611  12.414565  12.460225   3.913958  10.362290   \n",
              "max     7.933827  12.451705  12.473397  12.477369   4.017424  10.469346   \n",
              "\n",
              "             45         52         56         57   ...        656        660  \\\n",
              "count  20.000000  20.000000  20.000000  20.000000  ...  20.000000  20.000000   \n",
              "mean    7.796698  12.405998  11.809059   4.517900  ...   2.957525   4.696776   \n",
              "std     0.172995   0.063845   0.212653   0.308714  ...   0.241401   0.269513   \n",
              "min     7.508177  12.298411  11.499483   4.097578  ...   2.589729   3.761816   \n",
              "25%     7.642545  12.372495  11.653912   4.304993  ...   2.856834   4.644212   \n",
              "50%     7.791342  12.404238  11.797107   4.476005  ...   2.905463   4.723487   \n",
              "75%     7.905799  12.434952  11.907919   4.696629  ...   2.995083   4.824639   \n",
              "max     8.130504  12.537577  12.379698   5.207706  ...   3.860526   5.075750   \n",
              "\n",
              "             662        666        667        669        670        673  \\\n",
              "count  20.000000  20.000000  20.000000  20.000000  20.000000  20.000000   \n",
              "mean   10.971332  11.365683  10.512672   4.828164   2.648268  11.159330   \n",
              "std     0.484537   0.283670   0.226891   0.611655   0.511068   0.629781   \n",
              "min    10.458903  10.468961  10.219953   3.599596   1.684581  10.454705   \n",
              "25%    10.591162  11.385544  10.412248   4.634216   2.637246  10.618091   \n",
              "50%    10.640525  11.460799  10.487790   5.111387   2.804642  11.020529   \n",
              "75%    11.551985  11.522295  10.549589   5.200747   2.894892  11.633203   \n",
              "max    11.604945  11.562769  11.358961   5.494050   3.720609  12.669559   \n",
              "\n",
              "             676        676  \n",
              "count  20.000000  20.000000  \n",
              "mean   10.462033   2.358471  \n",
              "std     0.019748   0.350825  \n",
              "min    10.405470   2.066361  \n",
              "25%    10.451988   2.185974  \n",
              "50%    10.471257   2.211224  \n",
              "75%    10.476773   2.288615  \n",
              "max    10.480941   3.171006  \n",
              "\n",
              "[8 rows x 172 columns]"
            ],
            "text/html": [
              "\n",
              "  <div id=\"df-1f2cc642-fbb7-41f6-a9b9-9a7ce4d88de0\" class=\"colab-df-container\">\n",
              "    <div>\n",
              "<style scoped>\n",
              "    .dataframe tbody tr th:only-of-type {\n",
              "        vertical-align: middle;\n",
              "    }\n",
              "\n",
              "    .dataframe tbody tr th {\n",
              "        vertical-align: top;\n",
              "    }\n",
              "\n",
              "    .dataframe thead th {\n",
              "        text-align: right;\n",
              "    }\n",
              "</style>\n",
              "<table border=\"1\" class=\"dataframe\">\n",
              "  <thead>\n",
              "    <tr style=\"text-align: right;\">\n",
              "      <th></th>\n",
              "      <th>1</th>\n",
              "      <th>7</th>\n",
              "      <th>14</th>\n",
              "      <th>15</th>\n",
              "      <th>19</th>\n",
              "      <th>26</th>\n",
              "      <th>45</th>\n",
              "      <th>52</th>\n",
              "      <th>56</th>\n",
              "      <th>57</th>\n",
              "      <th>...</th>\n",
              "      <th>656</th>\n",
              "      <th>660</th>\n",
              "      <th>662</th>\n",
              "      <th>666</th>\n",
              "      <th>667</th>\n",
              "      <th>669</th>\n",
              "      <th>670</th>\n",
              "      <th>673</th>\n",
              "      <th>676</th>\n",
              "      <th>676</th>\n",
              "    </tr>\n",
              "  </thead>\n",
              "  <tbody>\n",
              "    <tr>\n",
              "      <th>count</th>\n",
              "      <td>20.000000</td>\n",
              "      <td>20.000000</td>\n",
              "      <td>20.000000</td>\n",
              "      <td>20.000000</td>\n",
              "      <td>20.000000</td>\n",
              "      <td>20.000000</td>\n",
              "      <td>20.000000</td>\n",
              "      <td>20.000000</td>\n",
              "      <td>20.000000</td>\n",
              "      <td>20.000000</td>\n",
              "      <td>...</td>\n",
              "      <td>20.000000</td>\n",
              "      <td>20.000000</td>\n",
              "      <td>20.000000</td>\n",
              "      <td>20.000000</td>\n",
              "      <td>20.000000</td>\n",
              "      <td>20.000000</td>\n",
              "      <td>20.000000</td>\n",
              "      <td>20.000000</td>\n",
              "      <td>20.000000</td>\n",
              "      <td>20.000000</td>\n",
              "    </tr>\n",
              "    <tr>\n",
              "      <th>mean</th>\n",
              "      <td>7.924549</td>\n",
              "      <td>12.381485</td>\n",
              "      <td>12.364658</td>\n",
              "      <td>12.424997</td>\n",
              "      <td>3.724708</td>\n",
              "      <td>10.245760</td>\n",
              "      <td>7.796698</td>\n",
              "      <td>12.405998</td>\n",
              "      <td>11.809059</td>\n",
              "      <td>4.517900</td>\n",
              "      <td>...</td>\n",
              "      <td>2.957525</td>\n",
              "      <td>4.696776</td>\n",
              "      <td>10.971332</td>\n",
              "      <td>11.365683</td>\n",
              "      <td>10.512672</td>\n",
              "      <td>4.828164</td>\n",
              "      <td>2.648268</td>\n",
              "      <td>11.159330</td>\n",
              "      <td>10.462033</td>\n",
              "      <td>2.358471</td>\n",
              "    </tr>\n",
              "    <tr>\n",
              "      <th>std</th>\n",
              "      <td>0.006462</td>\n",
              "      <td>0.049933</td>\n",
              "      <td>0.074536</td>\n",
              "      <td>0.044917</td>\n",
              "      <td>0.296933</td>\n",
              "      <td>0.163124</td>\n",
              "      <td>0.172995</td>\n",
              "      <td>0.063845</td>\n",
              "      <td>0.212653</td>\n",
              "      <td>0.308714</td>\n",
              "      <td>...</td>\n",
              "      <td>0.241401</td>\n",
              "      <td>0.269513</td>\n",
              "      <td>0.484537</td>\n",
              "      <td>0.283670</td>\n",
              "      <td>0.226891</td>\n",
              "      <td>0.611655</td>\n",
              "      <td>0.511068</td>\n",
              "      <td>0.629781</td>\n",
              "      <td>0.019748</td>\n",
              "      <td>0.350825</td>\n",
              "    </tr>\n",
              "    <tr>\n",
              "      <th>min</th>\n",
              "      <td>7.908349</td>\n",
              "      <td>12.243083</td>\n",
              "      <td>12.223661</td>\n",
              "      <td>12.342925</td>\n",
              "      <td>3.020099</td>\n",
              "      <td>9.925386</td>\n",
              "      <td>7.508177</td>\n",
              "      <td>12.298411</td>\n",
              "      <td>11.499483</td>\n",
              "      <td>4.097578</td>\n",
              "      <td>...</td>\n",
              "      <td>2.589729</td>\n",
              "      <td>3.761816</td>\n",
              "      <td>10.458903</td>\n",
              "      <td>10.468961</td>\n",
              "      <td>10.219953</td>\n",
              "      <td>3.599596</td>\n",
              "      <td>1.684581</td>\n",
              "      <td>10.454705</td>\n",
              "      <td>10.405470</td>\n",
              "      <td>2.066361</td>\n",
              "    </tr>\n",
              "    <tr>\n",
              "      <th>25%</th>\n",
              "      <td>7.920865</td>\n",
              "      <td>12.364216</td>\n",
              "      <td>12.313537</td>\n",
              "      <td>12.394455</td>\n",
              "      <td>3.636026</td>\n",
              "      <td>10.146099</td>\n",
              "      <td>7.642545</td>\n",
              "      <td>12.372495</td>\n",
              "      <td>11.653912</td>\n",
              "      <td>4.304993</td>\n",
              "      <td>...</td>\n",
              "      <td>2.856834</td>\n",
              "      <td>4.644212</td>\n",
              "      <td>10.591162</td>\n",
              "      <td>11.385544</td>\n",
              "      <td>10.412248</td>\n",
              "      <td>4.634216</td>\n",
              "      <td>2.637246</td>\n",
              "      <td>10.618091</td>\n",
              "      <td>10.451988</td>\n",
              "      <td>2.185974</td>\n",
              "    </tr>\n",
              "    <tr>\n",
              "      <th>50%</th>\n",
              "      <td>7.926111</td>\n",
              "      <td>12.392916</td>\n",
              "      <td>12.369092</td>\n",
              "      <td>12.441047</td>\n",
              "      <td>3.885119</td>\n",
              "      <td>10.265191</td>\n",
              "      <td>7.791342</td>\n",
              "      <td>12.404238</td>\n",
              "      <td>11.797107</td>\n",
              "      <td>4.476005</td>\n",
              "      <td>...</td>\n",
              "      <td>2.905463</td>\n",
              "      <td>4.723487</td>\n",
              "      <td>10.640525</td>\n",
              "      <td>11.460799</td>\n",
              "      <td>10.487790</td>\n",
              "      <td>5.111387</td>\n",
              "      <td>2.804642</td>\n",
              "      <td>11.020529</td>\n",
              "      <td>10.471257</td>\n",
              "      <td>2.211224</td>\n",
              "    </tr>\n",
              "    <tr>\n",
              "      <th>75%</th>\n",
              "      <td>7.927691</td>\n",
              "      <td>12.409611</td>\n",
              "      <td>12.414565</td>\n",
              "      <td>12.460225</td>\n",
              "      <td>3.913958</td>\n",
              "      <td>10.362290</td>\n",
              "      <td>7.905799</td>\n",
              "      <td>12.434952</td>\n",
              "      <td>11.907919</td>\n",
              "      <td>4.696629</td>\n",
              "      <td>...</td>\n",
              "      <td>2.995083</td>\n",
              "      <td>4.824639</td>\n",
              "      <td>11.551985</td>\n",
              "      <td>11.522295</td>\n",
              "      <td>10.549589</td>\n",
              "      <td>5.200747</td>\n",
              "      <td>2.894892</td>\n",
              "      <td>11.633203</td>\n",
              "      <td>10.476773</td>\n",
              "      <td>2.288615</td>\n",
              "    </tr>\n",
              "    <tr>\n",
              "      <th>max</th>\n",
              "      <td>7.933827</td>\n",
              "      <td>12.451705</td>\n",
              "      <td>12.473397</td>\n",
              "      <td>12.477369</td>\n",
              "      <td>4.017424</td>\n",
              "      <td>10.469346</td>\n",
              "      <td>8.130504</td>\n",
              "      <td>12.537577</td>\n",
              "      <td>12.379698</td>\n",
              "      <td>5.207706</td>\n",
              "      <td>...</td>\n",
              "      <td>3.860526</td>\n",
              "      <td>5.075750</td>\n",
              "      <td>11.604945</td>\n",
              "      <td>11.562769</td>\n",
              "      <td>11.358961</td>\n",
              "      <td>5.494050</td>\n",
              "      <td>3.720609</td>\n",
              "      <td>12.669559</td>\n",
              "      <td>10.480941</td>\n",
              "      <td>3.171006</td>\n",
              "    </tr>\n",
              "  </tbody>\n",
              "</table>\n",
              "<p>8 rows × 172 columns</p>\n",
              "</div>\n",
              "    <div class=\"colab-df-buttons\">\n",
              "\n",
              "  <div class=\"colab-df-container\">\n",
              "    <button class=\"colab-df-convert\" onclick=\"convertToInteractive('df-1f2cc642-fbb7-41f6-a9b9-9a7ce4d88de0')\"\n",
              "            title=\"Convert this dataframe to an interactive table.\"\n",
              "            style=\"display:none;\">\n",
              "\n",
              "  <svg xmlns=\"http://www.w3.org/2000/svg\" height=\"24px\" viewBox=\"0 -960 960 960\">\n",
              "    <path d=\"M120-120v-720h720v720H120Zm60-500h600v-160H180v160Zm220 220h160v-160H400v160Zm0 220h160v-160H400v160ZM180-400h160v-160H180v160Zm440 0h160v-160H620v160ZM180-180h160v-160H180v160Zm440 0h160v-160H620v160Z\"/>\n",
              "  </svg>\n",
              "    </button>\n",
              "\n",
              "  <style>\n",
              "    .colab-df-container {\n",
              "      display:flex;\n",
              "      gap: 12px;\n",
              "    }\n",
              "\n",
              "    .colab-df-convert {\n",
              "      background-color: #E8F0FE;\n",
              "      border: none;\n",
              "      border-radius: 50%;\n",
              "      cursor: pointer;\n",
              "      display: none;\n",
              "      fill: #1967D2;\n",
              "      height: 32px;\n",
              "      padding: 0 0 0 0;\n",
              "      width: 32px;\n",
              "    }\n",
              "\n",
              "    .colab-df-convert:hover {\n",
              "      background-color: #E2EBFA;\n",
              "      box-shadow: 0px 1px 2px rgba(60, 64, 67, 0.3), 0px 1px 3px 1px rgba(60, 64, 67, 0.15);\n",
              "      fill: #174EA6;\n",
              "    }\n",
              "\n",
              "    .colab-df-buttons div {\n",
              "      margin-bottom: 4px;\n",
              "    }\n",
              "\n",
              "    [theme=dark] .colab-df-convert {\n",
              "      background-color: #3B4455;\n",
              "      fill: #D2E3FC;\n",
              "    }\n",
              "\n",
              "    [theme=dark] .colab-df-convert:hover {\n",
              "      background-color: #434B5C;\n",
              "      box-shadow: 0px 1px 3px 1px rgba(0, 0, 0, 0.15);\n",
              "      filter: drop-shadow(0px 1px 2px rgba(0, 0, 0, 0.3));\n",
              "      fill: #FFFFFF;\n",
              "    }\n",
              "  </style>\n",
              "\n",
              "    <script>\n",
              "      const buttonEl =\n",
              "        document.querySelector('#df-1f2cc642-fbb7-41f6-a9b9-9a7ce4d88de0 button.colab-df-convert');\n",
              "      buttonEl.style.display =\n",
              "        google.colab.kernel.accessAllowed ? 'block' : 'none';\n",
              "\n",
              "      async function convertToInteractive(key) {\n",
              "        const element = document.querySelector('#df-1f2cc642-fbb7-41f6-a9b9-9a7ce4d88de0');\n",
              "        const dataTable =\n",
              "          await google.colab.kernel.invokeFunction('convertToInteractive',\n",
              "                                                    [key], {});\n",
              "        if (!dataTable) return;\n",
              "\n",
              "        const docLinkHtml = 'Like what you see? Visit the ' +\n",
              "          '<a target=\"_blank\" href=https://colab.research.google.com/notebooks/data_table.ipynb>data table notebook</a>'\n",
              "          + ' to learn more about interactive tables.';\n",
              "        element.innerHTML = '';\n",
              "        dataTable['output_type'] = 'display_data';\n",
              "        await google.colab.output.renderOutput(dataTable, element);\n",
              "        const docLink = document.createElement('div');\n",
              "        docLink.innerHTML = docLinkHtml;\n",
              "        element.appendChild(docLink);\n",
              "      }\n",
              "    </script>\n",
              "  </div>\n",
              "\n",
              "\n",
              "<div id=\"df-85ea03d3-6797-4167-9b14-43d972886ec2\">\n",
              "  <button class=\"colab-df-quickchart\" onclick=\"quickchart('df-85ea03d3-6797-4167-9b14-43d972886ec2')\"\n",
              "            title=\"Suggest charts\"\n",
              "            style=\"display:none;\">\n",
              "\n",
              "<svg xmlns=\"http://www.w3.org/2000/svg\" height=\"24px\"viewBox=\"0 0 24 24\"\n",
              "     width=\"24px\">\n",
              "    <g>\n",
              "        <path d=\"M19 3H5c-1.1 0-2 .9-2 2v14c0 1.1.9 2 2 2h14c1.1 0 2-.9 2-2V5c0-1.1-.9-2-2-2zM9 17H7v-7h2v7zm4 0h-2V7h2v10zm4 0h-2v-4h2v4z\"/>\n",
              "    </g>\n",
              "</svg>\n",
              "  </button>\n",
              "\n",
              "<style>\n",
              "  .colab-df-quickchart {\n",
              "      --bg-color: #E8F0FE;\n",
              "      --fill-color: #1967D2;\n",
              "      --hover-bg-color: #E2EBFA;\n",
              "      --hover-fill-color: #174EA6;\n",
              "      --disabled-fill-color: #AAA;\n",
              "      --disabled-bg-color: #DDD;\n",
              "  }\n",
              "\n",
              "  [theme=dark] .colab-df-quickchart {\n",
              "      --bg-color: #3B4455;\n",
              "      --fill-color: #D2E3FC;\n",
              "      --hover-bg-color: #434B5C;\n",
              "      --hover-fill-color: #FFFFFF;\n",
              "      --disabled-bg-color: #3B4455;\n",
              "      --disabled-fill-color: #666;\n",
              "  }\n",
              "\n",
              "  .colab-df-quickchart {\n",
              "    background-color: var(--bg-color);\n",
              "    border: none;\n",
              "    border-radius: 50%;\n",
              "    cursor: pointer;\n",
              "    display: none;\n",
              "    fill: var(--fill-color);\n",
              "    height: 32px;\n",
              "    padding: 0;\n",
              "    width: 32px;\n",
              "  }\n",
              "\n",
              "  .colab-df-quickchart:hover {\n",
              "    background-color: var(--hover-bg-color);\n",
              "    box-shadow: 0 1px 2px rgba(60, 64, 67, 0.3), 0 1px 3px 1px rgba(60, 64, 67, 0.15);\n",
              "    fill: var(--button-hover-fill-color);\n",
              "  }\n",
              "\n",
              "  .colab-df-quickchart-complete:disabled,\n",
              "  .colab-df-quickchart-complete:disabled:hover {\n",
              "    background-color: var(--disabled-bg-color);\n",
              "    fill: var(--disabled-fill-color);\n",
              "    box-shadow: none;\n",
              "  }\n",
              "\n",
              "  .colab-df-spinner {\n",
              "    border: 2px solid var(--fill-color);\n",
              "    border-color: transparent;\n",
              "    border-bottom-color: var(--fill-color);\n",
              "    animation:\n",
              "      spin 1s steps(1) infinite;\n",
              "  }\n",
              "\n",
              "  @keyframes spin {\n",
              "    0% {\n",
              "      border-color: transparent;\n",
              "      border-bottom-color: var(--fill-color);\n",
              "      border-left-color: var(--fill-color);\n",
              "    }\n",
              "    20% {\n",
              "      border-color: transparent;\n",
              "      border-left-color: var(--fill-color);\n",
              "      border-top-color: var(--fill-color);\n",
              "    }\n",
              "    30% {\n",
              "      border-color: transparent;\n",
              "      border-left-color: var(--fill-color);\n",
              "      border-top-color: var(--fill-color);\n",
              "      border-right-color: var(--fill-color);\n",
              "    }\n",
              "    40% {\n",
              "      border-color: transparent;\n",
              "      border-right-color: var(--fill-color);\n",
              "      border-top-color: var(--fill-color);\n",
              "    }\n",
              "    60% {\n",
              "      border-color: transparent;\n",
              "      border-right-color: var(--fill-color);\n",
              "    }\n",
              "    80% {\n",
              "      border-color: transparent;\n",
              "      border-right-color: var(--fill-color);\n",
              "      border-bottom-color: var(--fill-color);\n",
              "    }\n",
              "    90% {\n",
              "      border-color: transparent;\n",
              "      border-bottom-color: var(--fill-color);\n",
              "    }\n",
              "  }\n",
              "</style>\n",
              "\n",
              "  <script>\n",
              "    async function quickchart(key) {\n",
              "      const quickchartButtonEl =\n",
              "        document.querySelector('#' + key + ' button');\n",
              "      quickchartButtonEl.disabled = true;  // To prevent multiple clicks.\n",
              "      quickchartButtonEl.classList.add('colab-df-spinner');\n",
              "      try {\n",
              "        const charts = await google.colab.kernel.invokeFunction(\n",
              "            'suggestCharts', [key], {});\n",
              "      } catch (error) {\n",
              "        console.error('Error during call to suggestCharts:', error);\n",
              "      }\n",
              "      quickchartButtonEl.classList.remove('colab-df-spinner');\n",
              "      quickchartButtonEl.classList.add('colab-df-quickchart-complete');\n",
              "    }\n",
              "    (() => {\n",
              "      let quickchartButtonEl =\n",
              "        document.querySelector('#df-85ea03d3-6797-4167-9b14-43d972886ec2 button');\n",
              "      quickchartButtonEl.style.display =\n",
              "        google.colab.kernel.accessAllowed ? 'block' : 'none';\n",
              "    })();\n",
              "  </script>\n",
              "</div>\n",
              "\n",
              "    </div>\n",
              "  </div>\n"
            ],
            "application/vnd.google.colaboratory.intrinsic+json": {
              "type": "dataframe"
            }
          },
          "metadata": {},
          "execution_count": 18
        }
      ]
    },
    {
      "cell_type": "code",
      "source": [
        "pkatraj.results.pkas.to_csv(\"outputs/pkas_over_traj.csv\")"
      ],
      "metadata": {
        "id": "gsRNoz47q6ii"
      },
      "id": "gsRNoz47q6ii",
      "execution_count": null,
      "outputs": []
    },
    {
      "cell_type": "markdown",
      "source": [
        "**For this next section, you will need to change the \"xxx\" at the end of the line of code in the brackets to the number of the specific amino acid you would like to look at.** For example, if you want to look at the trajectory of amino acid 176, put that into the [ ]. If you have an error message show up, make sure that the amino acid number is present in your \"pkas_over_traj.csv\" file (you should see a column with that number). This will allow you to see differences in the amino acid that you have decided to change for your variant protein!"
      ],
      "metadata": {
        "id": "eZTXFH3mARHA"
      },
      "id": "eZTXFH3mARHA"
    },
    {
      "cell_type": "code",
      "source": [
        "# to see one specific amino acid over the trajectory use the code below\n",
        "# change the number in the [] to be the amino acid number in the structure, remember the numbering may be different so check the numbering in the pdb file\n",
        "pp.plot(pkatraj.results.pkas.index,pkatraj.results.pkas[19])"
      ],
      "metadata": {
        "id": "tNe2dz31CAPP",
        "colab": {
          "base_uri": "https://localhost:8080/",
          "height": 448
        },
        "outputId": "d2644c72-4ad2-474d-c2f3-6adb4192b27d"
      },
      "id": "tNe2dz31CAPP",
      "execution_count": null,
      "outputs": [
        {
          "output_type": "execute_result",
          "data": {
            "text/plain": [
              "[<matplotlib.lines.Line2D at 0x79a1cc446710>]"
            ]
          },
          "metadata": {},
          "execution_count": 20
        },
        {
          "output_type": "display_data",
          "data": {
            "text/plain": [
              "<Figure size 640x480 with 1 Axes>"
            ],
            "image/png": "[encoded data removed]"
          },
          "metadata": {}
        }
      ]
    },
    {
      "cell_type": "markdown",
      "source": [],
      "metadata": {
        "id": "cfjjAY2sIk0J"
      },
      "id": "cfjjAY2sIk0J"
    },
    {
      "cell_type": "code",
      "source": [
        "# to see multiple columns as a boxplot\n",
        "#replace xxx and yyy with the specific amino acid numbers. You can add more names by adding commas.\n",
        "df = pkatraj.results.pkas[[19, 57, 110, 176, 200]]\n",
        "# select a range of columns by column number, change the 0 and 78 to the range of column numbers remember to remove the '#'\n",
        "#df = pkatraj.results.pkas.iloc[:,0:78]\n",
        "\n",
        "# results will be in the form of a boxplot\n",
        "df.boxplot()"
      ],
      "metadata": {
        "id": "hSssfTbJCORW",
        "colab": {
          "base_uri": "https://localhost:8080/",
          "height": 448
        },
        "outputId": "4bcf6f6c-3db1-40d7-fbf0-94485bf689b3"
      },
      "id": "hSssfTbJCORW",
      "execution_count": null,
      "outputs": [
        {
          "output_type": "execute_result",
          "data": {
            "text/plain": [
              "<Axes: >"
            ]
          },
          "metadata": {},
          "execution_count": 25
        },
        {
          "output_type": "display_data",
          "data": {
            "text/plain": [
              "<Figure size 640x480 with 1 Axes>"
            ],
            "image/png": "[encoded data removed]"
          },
          "metadata": {}
        }
      ]
    },
    {
      "cell_type": "markdown",
      "source": [
        "# Congrats, you have finished Step 2 of the MD Colab! :-)\n",
        "\n",
        "## **Don't forget to download the files in your outputs folder!!!**\n"
      ],
      "metadata": {
        "id": "6NPHXIxa_tFh"
      },
      "id": "6NPHXIxa_tFh"
    },
    {
      "cell_type": "markdown",
      "source": [
        "# Removing solvent from the trajectory\n",
        "\n",
        "## Run this first code if you need to remove water from your files! If you already ran the above code, then don't run this unless told to.\n",
        "\n",
        "Trajectory is a dynamic view of various properties in your protein, including atom coordinates, box size, velocities, and forces. Trajectory files looks at these variables as they change throughout time. We really only care about the protein in these simulations so we need to remove the waters and ions from the trajectory. This will greatly reduce the file size and the complexity.\n",
        "\n",
        "First we will load the trajectory (.dcd) and the parameters for where the atoms are and the bonds (.prmtop). We will then remove the solvent and save the trajectory without solvent. We will also save a .pdb file of the first frame to help resolve case issues later on with amino acid numbering or where the system started. It is possible to extract any of the structures along the trajectory if needed.\n",
        "\n",
        "---\n",
        "\n",
        "All you need to edit is the first box of code, where you will need to change the file names. Otherwise, no edits are necessary and you can press PLAY."
      ],
      "metadata": {
        "id": "ke6p6IKx5jWq"
      },
      "id": "ke6p6IKx5jWq"
    },
    {
      "cell_type": "code",
      "execution_count": null,
      "id": "1cb8e75b",
      "metadata": {
        "id": "1cb8e75b"
      },
      "outputs": [],
      "source": [
        "# load the trajectories (you will need to change the file names)\n",
        "t = md.load('data/1aki_prod1_nw.dcd', top = 'data/SYS_nw.prmtop')"
      ]
    },
    {
      "cell_type": "code",
      "execution_count": null,
      "id": "5fa4ebd0",
      "metadata": {
        "id": "5fa4ebd0"
      },
      "outputs": [],
      "source": [
        "# remove the waters and ions to make the analysis simpler\n",
        "t2 = t.remove_solvent()"
      ]
    },
    {
      "cell_type": "code",
      "execution_count": null,
      "id": "59de0aba",
      "metadata": {
        "id": "59de0aba"
      },
      "outputs": [],
      "source": [
        "# check the size of the trajectory before and after solvent, atom number in t2 < t if remove solvent worked\n",
        "print(t)\n",
        "print(t2)"
      ]
    },
    {
      "cell_type": "code",
      "execution_count": null,
      "id": "6861d38d",
      "metadata": {
        "id": "6861d38d"
      },
      "outputs": [],
      "source": [
        "# save the no solvent trajectory and the first pdb file, we may save other structures in the trajectory later\n",
        "t2.save_dcd(\"outputs/traj_no_solvent.dcd\")\n",
        "# python starts with 0 as the first number\n",
        "t2[0].save_pdb(\"outputs/pdb_first.pdb\")"
      ]
    },
    {
      "cell_type": "code",
      "source": [
        "# If you need a different frame based on later analysis:\n",
        "# 1) change the zero to the frame number\n",
        "# 2) change the xxx in the file name to the frame number\n",
        "# 3) remove the '#' in front of the command below and run the cell\n",
        "# t2[XXX].save_pdb(\"outputs/pdb_xxx.pdb\")"
      ],
      "metadata": {
        "id": "iSGNiUNm6Yoh"
      },
      "id": "iSGNiUNm6Yoh",
      "execution_count": null,
      "outputs": []
    },
    {
      "cell_type": "markdown",
      "source": [
        "\n",
        "At this point, you have three different trajectory files that you need to compare. You could copy the loading and processing cells above to bring in the other files OR process each individually and make a new colab for comparing the 3 trajectories. For simplicity, I suggest processing the trajectories individually, however if you do decide to process them all here, then remember that you cannot use t or t2 as variable names.\n"
      ],
      "metadata": {
        "id": "et5VOV-XVhmu"
      },
      "id": "et5VOV-XVhmu"
    }
  ],
  "metadata": {
    "kernelspec": {
      "display_name": "Python 3 (ipykernel)",
      "language": "python",
      "name": "python3"
    },
    "language_info": {
      "codemirror_mode": {
        "name": "ipython",
        "version": 3
      },
      "file_extension": ".py",
      "mimetype": "text/x-python",
      "name": "python",
      "nbconvert_exporter": "python",
      "pygments_lexer": "ipython3",
      "version": "3.10.9"
    },
    "colab": {
      "provenance": [],
      "collapsed_sections": [
        "ke6p6IKx5jWq"
      ]
    }
  },
  "nbformat": 4,
  "nbformat_minor": 5
}