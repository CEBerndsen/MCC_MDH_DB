{
  "cells": [
    {
      "cell_type": "markdown",
      "id": "pj2BWZxUDbEE",
      "metadata": {
        "id": "pj2BWZxUDbEE"
      },
      "source": [
        "# **Introduction**\n",
        "\n",
        "Welcome to the world of Molecular Dynamics! This lesson is to teach you the basic protocol of analyzing a molecular dynamics (MD) simulation, including a bit of Python coding. If you don't know how to code, don't worry! These lessons assume no prior knowledge of code or Python.\n",
        "\n",
        "If you have not completed Step 1 and would like to do so, click this link: https://colab.research.google.com/drive/1vKxP4MJhdIODzScluSeU73NHOWwJIPn8?usp=sharing\n",
        "\n",
        "## Analyzing molecular dynamics\n",
        "MD simulates the motion of molecules and can describe how the structure changes over time. The analysis of molecular dynamics extracts properties from the \"movie\" of the molecule such as how mobile areas of the molecule were and how the pKa values of certain functional groups can vary as the molecule moves. This information can help describe the mechanism of action as conformational changes in enzymes are linked to catalytic activity and pKa is related to nucleophilicty.\n",
        "\n",
        "## What will I get from this Colab?\n",
        "The first steps of the colab show whether the molecule reached equilibrium during the simulation, which indicates how reliable or confidently you can interpret the rest of the values. The second section of the Colab describes which areas of the molecule are most dynamic. Finally, the code will calculate the pKa values for each frame of the simulation to show pKa values over time. These values and outputs can be compared to simulations of mutants or the protein with ligands to determine how these changes to the simulation environment alter the dynamics of the molecule.\n",
        "\n",
        "[Guide video for using this colab](https://www.loom.com/share/cb783e87ba294bee916d0fd1e0847fee?sid=ac7a0852-00c7-4cc9-b2b1-cd142ee9b7fc)\n",
        "\n",
        "\n",
        "\n",
        "---\n",
        "\n"
      ]
    },
    {
      "cell_type": "markdown",
      "id": "u77m5v6ie-0Z",
      "metadata": {
        "id": "u77m5v6ie-0Z"
      },
      "source": [
        "\n",
        "####**Please make a copy of this colab for your personal use!!**\n",
        "\n",
        "A few things to start:\n",
        "\n",
        "1.   These lessons only work in Google Chrome\n",
        "2.   If you want to save your progress, go to File> Save a Copy in Drive; then locate a spot in your Drive folder\n",
        "3.   Clicking the \"play\" button to the top left of a code block runs the code. Sometimes you can see the code and interact with it. However, if the code is hidden  it is to run adminstrative tasks in the background and you do not need to worry unless you are interested.\n",
        "4. Sometimes the code may be hidden from view. To view it, click the '>' on the left of the title, until it changes to 'v'. This will reveal the code in that line.\n",
        "\n",
        "Here are the files you will need for this code to run:\n",
        "*   **.dcd** is a file format that store simulation trajectories. Simulation trajectories are a dynamic view of various properties in your protein, including atom coordinates, box size, velocities, and forces. Trajectory files looks at these variables as they change throughout time. You should have this file from your MD run in step 1.\n",
        "*  A .pdb file containing a set of atomic coordinates of your molecule. **.pdb** stands for a Protein Data Bank file. It is a file containing the three-dimensional structural data of your protein directly from the Protein Data Bank. If you run into errors with your PDB file, ask your instructor. You should have this file from your MD run in step 1.\n",
        "\n",
        "If you want to remove waters from your files (you may want this if you did not use the Step 1 colab), you will need a .prmtop file:\n",
        "*  **.prmtop** is the topology of your protein. Toplogy means how the atoms connect together and the location of each atom. You should have this file from Step 1.\n",
        "\n",
        "If you would like a tutorial on Python basics, please reference [this colab](https://colab.research.google.com/drive/1UVupXh23ArJp2F9vqTmkVh0JnjEaemi1?usp=sharing ). It is not necessary to do this, however if you are interested in learning more about coding it is a great resource to use!\n",
        "\n",
        "This should take approximately 30 minutes to run.\n",
        "\n",
        "---\n",
        "\n",
        "**Acknowledgments**\n",
        "- Colab developed by **Angela Kayll, Angelina Sardelli, and Christopher Berndsen** at James Madison University (ver 1 2024) with input and feedback from students in CHEM260 and members of the [MCC community](https://www.mdhcures.org/).\n"
      ]
    },
    {
      "cell_type": "code",
      "execution_count": 1,
      "id": "mBFASF7ICxWi",
      "metadata": {
        "cellView": "form",
        "colab": {
          "base_uri": "https://localhost:8080/"
        },
        "id": "mBFASF7ICxWi",
        "outputId": "8a3609c2-2316-4acf-d0a0-76f9fcc9b4fe"
      },
      "outputs": [
        {
          "output_type": "stream",
          "name": "stdout",
          "text": [
            "✨🍰✨ Everything looks OK!\n"
          ]
        }
      ],
      "source": [
        "#@title **1a. Install Conda Colab**\n",
        "#@markdown Press PLAY. It will restart the kernel (session), don't worry. But do not start\n",
        "#@markdown any other cells until this one finishes!\n",
        "!pip install -q condacolab\n",
        "import condacolab\n",
        "condacolab.install()"
      ]
    },
    {
      "cell_type": "code",
      "execution_count": 2,
      "id": "30437f46",
      "metadata": {
        "cellView": "form",
        "id": "30437f46",
        "colab": {
          "base_uri": "https://localhost:8080/"
        },
        "outputId": "cdb5959d-ad62-4554-fc7c-d336009862e3"
      },
      "outputs": [
        {
          "output_type": "stream",
          "name": "stdout",
          "text": [
            "\u001b[2K     \u001b[90m━━━━━━━━━━━━━━━━━━━━━━━━━━━━━━━━━━━━━━━━\u001b[0m \u001b[32m61.0/61.0 kB\u001b[0m \u001b[31m2.6 MB/s\u001b[0m eta \u001b[36m0:00:00\u001b[0m\n",
            "\u001b[2K     \u001b[90m━━━━━━━━━━━━━━━━━━━━━━━━━━━━━━━━━━━━━━━━\u001b[0m \u001b[32m60.8/60.8 kB\u001b[0m \u001b[31m3.5 MB/s\u001b[0m eta \u001b[36m0:00:00\u001b[0m\n",
            "\u001b[2K   \u001b[90m━━━━━━━━━━━━━━━━━━━━━━━━━━━━━━━━━━━━━━━━\u001b[0m \u001b[32m7.4/7.4 MB\u001b[0m \u001b[31m49.3 MB/s\u001b[0m eta \u001b[36m0:00:00\u001b[0m\n",
            "\u001b[2K   \u001b[90m━━━━━━━━━━━━━━━━━━━━━━━━━━━━━━━━━━━━━━━━\u001b[0m \u001b[32m18.2/18.2 MB\u001b[0m \u001b[31m59.5 MB/s\u001b[0m eta \u001b[36m0:00:00\u001b[0m\n",
            "\u001b[2K   \u001b[90m━━━━━━━━━━━━━━━━━━━━━━━━━━━━━━━━━━━━━━━━\u001b[0m \u001b[32m106.9/106.9 kB\u001b[0m \u001b[31m6.6 MB/s\u001b[0m eta \u001b[36m0:00:00\u001b[0m\n",
            "\u001b[2K   \u001b[90m━━━━━━━━━━━━━━━━━━━━━━━━━━━━━━━━━━━━━━━━\u001b[0m \u001b[32m41.2/41.2 MB\u001b[0m \u001b[31m13.4 MB/s\u001b[0m eta \u001b[36m0:00:00\u001b[0m\n",
            "\u001b[2K     \u001b[90m━━━━━━━━━━━━━━━━━━━━━━━━━━━━━━━━━━━━━━━━\u001b[0m \u001b[32m165.0/165.0 kB\u001b[0m \u001b[31m3.7 MB/s\u001b[0m eta \u001b[36m0:00:00\u001b[0m\n",
            "\u001b[2K   \u001b[90m━━━━━━━━━━━━━━━━━━━━━━━━━━━━━━━━━━━━━━━━\u001b[0m \u001b[32m8.3/8.3 MB\u001b[0m \u001b[31m62.3 MB/s\u001b[0m eta \u001b[36m0:00:00\u001b[0m\n",
            "\u001b[2K   \u001b[90m━━━━━━━━━━━━━━━━━━━━━━━━━━━━━━━━━━━━━━━━\u001b[0m \u001b[32m325.0/325.0 kB\u001b[0m \u001b[31m19.4 MB/s\u001b[0m eta \u001b[36m0:00:00\u001b[0m\n",
            "\u001b[2K   \u001b[90m━━━━━━━━━━━━━━━━━━━━━━━━━━━━━━━━━━━━━━━━\u001b[0m \u001b[32m4.6/4.6 MB\u001b[0m \u001b[31m80.4 MB/s\u001b[0m eta \u001b[36m0:00:00\u001b[0m\n",
            "\u001b[2K   \u001b[90m━━━━━━━━━━━━━━━━━━━━━━━━━━━━━━━━━━━━━━━━\u001b[0m \u001b[32m1.6/1.6 MB\u001b[0m \u001b[31m55.0 MB/s\u001b[0m eta \u001b[36m0:00:00\u001b[0m\n",
            "\u001b[2K   \u001b[90m━━━━━━━━━━━━━━━━━━━━━━━━━━━━━━━━━━━━━━━━\u001b[0m \u001b[32m4.4/4.4 MB\u001b[0m \u001b[31m87.7 MB/s\u001b[0m eta \u001b[36m0:00:00\u001b[0m\n",
            "\u001b[2K   \u001b[90m━━━━━━━━━━━━━━━━━━━━━━━━━━━━━━━━━━━━━━━━\u001b[0m \u001b[32m229.9/229.9 kB\u001b[0m \u001b[31m15.7 MB/s\u001b[0m eta \u001b[36m0:00:00\u001b[0m\n",
            "\u001b[2K     \u001b[90m━━━━━━━━━━━━━━━━━━━━━━━━━━━━━━━━━━━━━━━━\u001b[0m \u001b[32m108.5/108.5 kB\u001b[0m \u001b[31m2.3 MB/s\u001b[0m eta \u001b[36m0:00:00\u001b[0m\n",
            "\u001b[2K   \u001b[90m━━━━━━━━━━━━━━━━━━━━━━━━━━━━━━━━━━━━━━━━\u001b[0m \u001b[32m12.5/12.5 MB\u001b[0m \u001b[31m57.6 MB/s\u001b[0m eta \u001b[36m0:00:00\u001b[0m\n",
            "\u001b[2K   \u001b[90m━━━━━━━━━━━━━━━━━━━━━━━━━━━━━━━━━━━━━━━━\u001b[0m \u001b[32m2.1/2.1 MB\u001b[0m \u001b[31m59.7 MB/s\u001b[0m eta \u001b[36m0:00:00\u001b[0m\n",
            "\u001b[2K   \u001b[90m━━━━━━━━━━━━━━━━━━━━━━━━━━━━━━━━━━━━━━━━\u001b[0m \u001b[32m301.8/301.8 kB\u001b[0m \u001b[31m18.2 MB/s\u001b[0m eta \u001b[36m0:00:00\u001b[0m\n",
            "\u001b[2K   \u001b[90m━━━━━━━━━━━━━━━━━━━━━━━━━━━━━━━━━━━━━━━━\u001b[0m \u001b[32m3.7/3.7 MB\u001b[0m \u001b[31m78.2 MB/s\u001b[0m eta \u001b[36m0:00:00\u001b[0m\n",
            "\u001b[2K   \u001b[90m━━━━━━━━━━━━━━━━━━━━━━━━━━━━━━━━━━━━━━━━\u001b[0m \u001b[32m48.8/48.8 kB\u001b[0m \u001b[31m2.9 MB/s\u001b[0m eta \u001b[36m0:00:00\u001b[0m\n",
            "\u001b[2K   \u001b[90m━━━━━━━━━━━━━━━━━━━━━━━━━━━━━━━━━━━━━━━━\u001b[0m \u001b[32m378.0/378.0 kB\u001b[0m \u001b[31m22.3 MB/s\u001b[0m eta \u001b[36m0:00:00\u001b[0m\n",
            "\u001b[2K   \u001b[90m━━━━━━━━━━━━━━━━━━━━━━━━━━━━━━━━━━━━━━━━\u001b[0m \u001b[32m44.8/44.8 kB\u001b[0m \u001b[31m3.1 MB/s\u001b[0m eta \u001b[36m0:00:00\u001b[0m\n",
            "\u001b[2K     \u001b[90m━━━━━━━━━━━━━━━━━━━━━━━━━━━━━━━━━━━━━━━━\u001b[0m \u001b[32m89.9/89.9 kB\u001b[0m \u001b[31m2.5 MB/s\u001b[0m eta \u001b[36m0:00:00\u001b[0m\n",
            "\u001b[2K   \u001b[90m━━━━━━━━━━━━━━━━━━━━━━━━━━━━━━━━━━━━━━━━\u001b[0m \u001b[32m13.1/13.1 MB\u001b[0m \u001b[31m19.5 MB/s\u001b[0m eta \u001b[36m0:00:00\u001b[0m\n",
            "\u001b[2K   \u001b[90m━━━━━━━━━━━━━━━━━━━━━━━━━━━━━━━━━━━━━━━━\u001b[0m \u001b[32m508.0/508.0 kB\u001b[0m \u001b[31m24.8 MB/s\u001b[0m eta \u001b[36m0:00:00\u001b[0m\n",
            "\u001b[2K   \u001b[90m━━━━━━━━━━━━━━━━━━━━━━━━━━━━━━━━━━━━━━━━\u001b[0m \u001b[32m346.6/346.6 kB\u001b[0m \u001b[31m20.0 MB/s\u001b[0m eta \u001b[36m0:00:00\u001b[0m\n",
            "\u001b[2K   \u001b[90m━━━━━━━━━━━━━━━━━━━━━━━━━━━━━━━━━━━━━━━━\u001b[0m \u001b[32m294.9/294.9 kB\u001b[0m \u001b[31m5.8 MB/s\u001b[0m eta \u001b[36m0:00:00\u001b[0m\n",
            "\u001b[2K     \u001b[90m━━━━━━━━━━━━━━━━━━━━━━━━━━━━━━━━━━━━━━━━\u001b[0m \u001b[32m69.0/69.0 kB\u001b[0m \u001b[31m3.1 MB/s\u001b[0m eta \u001b[36m0:00:00\u001b[0m\n",
            "\u001b[?25h  Preparing metadata (setup.py) ... \u001b[?25l\u001b[?25hdone\n",
            "\u001b[2K   \u001b[90m━━━━━━━━━━━━━━━━━━━━━━━━━━━━━━━━━━━━━━━━\u001b[0m \u001b[32m391.6/391.6 kB\u001b[0m \u001b[31m12.5 MB/s\u001b[0m eta \u001b[36m0:00:00\u001b[0m\n",
            "\u001b[?25h  Building wheel for propka (setup.py) ... \u001b[?25l\u001b[?25hdone\n"
          ]
        }
      ],
      "source": [
        "#@title **1b. Install and load dependencies**\n",
        "#@markdown Press PLAY **after** the above cell has completed and the session restarted.\n",
        "#@markdown This will take a few minutes.\n",
        "!pip install -q mdtraj\n",
        "!pip install -q matplotlib\n",
        "!pip install --upgrade MDAnalysis --quiet\n",
        "!pip install -q pandas\n",
        "!pip install -q seaborn\n",
        "!pip install -q propkatraj\n",
        "\n",
        "import pandas as pd\n",
        "import mdtraj as md\n",
        "import matplotlib.pyplot as pp\n",
        "import MDAnalysis as mda\n",
        "from MDAnalysis.analysis import rms, align, diffusionmap\n",
        "import seaborn as sns\n",
        "from propkatraj import PropkaTraj"
      ]
    },
    {
      "cell_type": "markdown",
      "id": "xK45Gt3OOePt",
      "metadata": {
        "id": "xK45Gt3OOePt"
      },
      "source": [
        "Once both of the above have run, *then* you can begin analyzing the trajectory.\n",
        "\n",
        "1.   Click on the file folder on the left side\n",
        "2.   **Right-click**, bring up the actions menu, and create a folder. Name this folder \"data\".\n",
        "3. Upload the .dcd file and the .pdb file. Put these files in the \"data\" folder. The .dcd files are often large so be patient.\n",
        "4.   **Right-click**, bring up the actions menu, and create a folder. Name this folder \"outputs\". This is where we will put any output files or figures. **Remember to download all of these files when done.**\n",
        "5.  I'll provide instructions on the basic commands and analyses, if you add more remember to save what you are doing.\n",
        "\n",
        "\n"
      ]
    },
    {
      "cell_type": "markdown",
      "id": "zKwyZTnOuMB6",
      "metadata": {
        "id": "zKwyZTnOuMB6"
      },
      "source": [
        "##If you do not need to remove waters, then proceed with the steps below!\n",
        "\n",
        "# Removing waters\n",
        "Unless you are specifically interested in the waters (and they often are interesting to look at), they are generally removed from the files. This helps reduce the file size and keeping track of all the components of the simulation. The Step 1 colab typically removes the waters automatically, however, **if you are bring a file from a different source OR chose not to remove the waters and need to, there is code at the very bottom which allows you to do this.**\n",
        "\n",
        "**If you do not need to remove waters, then proceed with the steps below**\n",
        "\n",
        "\n",
        "\n",
        "---\n",
        "\n",
        "## 1c Load the data\n",
        "Change the filenames to match the names of the uploaded files. Remember to wait until the uploads have completed before running this box."
      ]
    },
    {
      "cell_type": "code",
      "execution_count": 3,
      "id": "51566c16",
      "metadata": {
        "colab": {
          "base_uri": "https://localhost:8080/"
        },
        "id": "51566c16",
        "outputId": "f28b24a4-680b-4b67-ec93-e079cd7efe51"
      },
      "outputs": [
        {
          "output_type": "stream",
          "name": "stderr",
          "text": [
            "/usr/local/lib/python3.10/site-packages/MDAnalysis/coordinates/DCD.py:165: DeprecationWarning: DCDReader currently makes independent timesteps by copying self.ts while other readers update self.ts inplace. This behavior will be changed in 3.0 to be the same as other readers. Read more at https://github.com/MDAnalysis/mdanalysis/issues/3889 to learn if this change in behavior might affect you.\n",
            "  warnings.warn(\"DCDReader currently makes independent timesteps\"\n"
          ]
        }
      ],
      "source": [
        "\n",
        "# these are the names of your files, replace the \"xxx\" with your file name\n",
        "dcd = 'inputs/trajectory.dcd'\n",
        "pdb = \"inputs/model.pdb\"\n",
        "u = mda.Universe(pdb, dcd)"
      ]
    },
    {
      "cell_type": "markdown",
      "id": "AgRQtDRbanJf",
      "metadata": {
        "id": "AgRQtDRbanJf"
      },
      "source": [
        "# Analysis of the trajectory\n",
        "We will use the MDAnalysis package to do the analysis and Matplotlib to plot our results. In the first step we will load the no solvent trajectory file that we made previously and use the pdb file from above to define the system.\n",
        "\n",
        "---\n",
        "## 2. RMSD analysis\n",
        "\n",
        "For the **first box**, it will load your .dcd and .pdb files. Change the file names in the area labeled \"xxx\" to the names of your files.\n",
        "\n",
        "For the **second box**, it will calculate your root mean square deviation (RMSD), which will indicate how much your trajectory changed from the start to the end of your simulation. You do not need to edit anything in this box unless your instructor tells you to.\n",
        "\n",
        "For the **third box**, it will make a pretty visualization of your RMSD results and save it as a CSV file. It will also show you the first five rows of data to allow you to assess the quality of the output. You do not need to edit anything in this box unless your instructor tells you to.\n",
        "\n",
        "For the **fourth box**, it will plot your data as a png file. The RMSD plot gives a sense of whether the protein has reached a fixed state over the simulation, but it is not particularly good at comparing the structures overall. You do not need to edit anything in this box unless your instructor tells you to."
      ]
    },
    {
      "cell_type": "code",
      "execution_count": 4,
      "id": "cd10f1be",
      "metadata": {
        "id": "cd10f1be"
      },
      "outputs": [],
      "source": [
        "# calculate rmsd\n",
        "# RMSD = root mean square deviation, and indicates how much the trajectory changed from start to end\n",
        "u.trajectory[0] # set to first frame\n",
        "rmsd_analysis = rms.RMSD(u, select='backbone', groupselections=['name CA', 'protein']) # select the areas to analyze, in this case the protein backbone atoms\n",
        "rmsd_analysis.run(); # run the analysis"
      ]
    },
    {
      "cell_type": "code",
      "execution_count": 5,
      "id": "BNPu-13PZdYb",
      "metadata": {
        "colab": {
          "base_uri": "https://localhost:8080/",
          "height": 206
        },
        "id": "BNPu-13PZdYb",
        "outputId": "e7d7257a-2c7f-41a3-be80-0bf3b9934196"
      },
      "outputs": [
        {
          "output_type": "execute_result",
          "data": {
            "text/plain": [
              "   time      Backbone      C-alphas       Protein\n",
              "0   0.0  9.334732e-07  4.427852e-07  4.287544e-07\n",
              "1   1.0  8.962160e-01  8.698909e-01  1.348678e+00\n",
              "2   2.0  9.671330e-01  9.479078e-01  1.431559e+00\n",
              "3   3.0  1.213323e+00  1.199811e+00  1.662513e+00\n",
              "4   4.0  1.078991e+00  1.063184e+00  1.616326e+00"
            ],
            "text/html": [
              "\n",
              "  <div id=\"df-f93e6541-7451-4d90-ab7d-c1dfcda76005\" class=\"colab-df-container\">\n",
              "    <div>\n",
              "<style scoped>\n",
              "    .dataframe tbody tr th:only-of-type {\n",
              "        vertical-align: middle;\n",
              "    }\n",
              "\n",
              "    .dataframe tbody tr th {\n",
              "        vertical-align: top;\n",
              "    }\n",
              "\n",
              "    .dataframe thead th {\n",
              "        text-align: right;\n",
              "    }\n",
              "</style>\n",
              "<table border=\"1\" class=\"dataframe\">\n",
              "  <thead>\n",
              "    <tr style=\"text-align: right;\">\n",
              "      <th></th>\n",
              "      <th>time</th>\n",
              "      <th>Backbone</th>\n",
              "      <th>C-alphas</th>\n",
              "      <th>Protein</th>\n",
              "    </tr>\n",
              "  </thead>\n",
              "  <tbody>\n",
              "    <tr>\n",
              "      <th>0</th>\n",
              "      <td>0.0</td>\n",
              "      <td>9.334732e-07</td>\n",
              "      <td>4.427852e-07</td>\n",
              "      <td>4.287544e-07</td>\n",
              "    </tr>\n",
              "    <tr>\n",
              "      <th>1</th>\n",
              "      <td>1.0</td>\n",
              "      <td>8.962160e-01</td>\n",
              "      <td>8.698909e-01</td>\n",
              "      <td>1.348678e+00</td>\n",
              "    </tr>\n",
              "    <tr>\n",
              "      <th>2</th>\n",
              "      <td>2.0</td>\n",
              "      <td>9.671330e-01</td>\n",
              "      <td>9.479078e-01</td>\n",
              "      <td>1.431559e+00</td>\n",
              "    </tr>\n",
              "    <tr>\n",
              "      <th>3</th>\n",
              "      <td>3.0</td>\n",
              "      <td>1.213323e+00</td>\n",
              "      <td>1.199811e+00</td>\n",
              "      <td>1.662513e+00</td>\n",
              "    </tr>\n",
              "    <tr>\n",
              "      <th>4</th>\n",
              "      <td>4.0</td>\n",
              "      <td>1.078991e+00</td>\n",
              "      <td>1.063184e+00</td>\n",
              "      <td>1.616326e+00</td>\n",
              "    </tr>\n",
              "  </tbody>\n",
              "</table>\n",
              "</div>\n",
              "    <div class=\"colab-df-buttons\">\n",
              "\n",
              "  <div class=\"colab-df-container\">\n",
              "    <button class=\"colab-df-convert\" onclick=\"convertToInteractive('df-f93e6541-7451-4d90-ab7d-c1dfcda76005')\"\n",
              "            title=\"Convert this dataframe to an interactive table.\"\n",
              "            style=\"display:none;\">\n",
              "\n",
              "  <svg xmlns=\"http://www.w3.org/2000/svg\" height=\"24px\" viewBox=\"0 -960 960 960\">\n",
              "    <path d=\"M120-120v-720h720v720H120Zm60-500h600v-160H180v160Zm220 220h160v-160H400v160Zm0 220h160v-160H400v160ZM180-400h160v-160H180v160Zm440 0h160v-160H620v160ZM180-180h160v-160H180v160Zm440 0h160v-160H620v160Z\"/>\n",
              "  </svg>\n",
              "    </button>\n",
              "\n",
              "  <style>\n",
              "    .colab-df-container {\n",
              "      display:flex;\n",
              "      gap: 12px;\n",
              "    }\n",
              "\n",
              "    .colab-df-convert {\n",
              "      background-color: #E8F0FE;\n",
              "      border: none;\n",
              "      border-radius: 50%;\n",
              "      cursor: pointer;\n",
              "      display: none;\n",
              "      fill: #1967D2;\n",
              "      height: 32px;\n",
              "      padding: 0 0 0 0;\n",
              "      width: 32px;\n",
              "    }\n",
              "\n",
              "    .colab-df-convert:hover {\n",
              "      background-color: #E2EBFA;\n",
              "      box-shadow: 0px 1px 2px rgba(60, 64, 67, 0.3), 0px 1px 3px 1px rgba(60, 64, 67, 0.15);\n",
              "      fill: #174EA6;\n",
              "    }\n",
              "\n",
              "    .colab-df-buttons div {\n",
              "      margin-bottom: 4px;\n",
              "    }\n",
              "\n",
              "    [theme=dark] .colab-df-convert {\n",
              "      background-color: #3B4455;\n",
              "      fill: #D2E3FC;\n",
              "    }\n",
              "\n",
              "    [theme=dark] .colab-df-convert:hover {\n",
              "      background-color: #434B5C;\n",
              "      box-shadow: 0px 1px 3px 1px rgba(0, 0, 0, 0.15);\n",
              "      filter: drop-shadow(0px 1px 2px rgba(0, 0, 0, 0.3));\n",
              "      fill: #FFFFFF;\n",
              "    }\n",
              "  </style>\n",
              "\n",
              "    <script>\n",
              "      const buttonEl =\n",
              "        document.querySelector('#df-f93e6541-7451-4d90-ab7d-c1dfcda76005 button.colab-df-convert');\n",
              "      buttonEl.style.display =\n",
              "        google.colab.kernel.accessAllowed ? 'block' : 'none';\n",
              "\n",
              "      async function convertToInteractive(key) {\n",
              "        const element = document.querySelector('#df-f93e6541-7451-4d90-ab7d-c1dfcda76005');\n",
              "        const dataTable =\n",
              "          await google.colab.kernel.invokeFunction('convertToInteractive',\n",
              "                                                    [key], {});\n",
              "        if (!dataTable) return;\n",
              "\n",
              "        const docLinkHtml = 'Like what you see? Visit the ' +\n",
              "          '<a target=\"_blank\" href=https://colab.research.google.com/notebooks/data_table.ipynb>data table notebook</a>'\n",
              "          + ' to learn more about interactive tables.';\n",
              "        element.innerHTML = '';\n",
              "        dataTable['output_type'] = 'display_data';\n",
              "        await google.colab.output.renderOutput(dataTable, element);\n",
              "        const docLink = document.createElement('div');\n",
              "        docLink.innerHTML = docLinkHtml;\n",
              "        element.appendChild(docLink);\n",
              "      }\n",
              "    </script>\n",
              "  </div>\n",
              "\n",
              "\n",
              "<div id=\"df-eb0cc857-bc2b-4b6b-9bb8-f712b0f1974b\">\n",
              "  <button class=\"colab-df-quickchart\" onclick=\"quickchart('df-eb0cc857-bc2b-4b6b-9bb8-f712b0f1974b')\"\n",
              "            title=\"Suggest charts\"\n",
              "            style=\"display:none;\">\n",
              "\n",
              "<svg xmlns=\"http://www.w3.org/2000/svg\" height=\"24px\"viewBox=\"0 0 24 24\"\n",
              "     width=\"24px\">\n",
              "    <g>\n",
              "        <path d=\"M19 3H5c-1.1 0-2 .9-2 2v14c0 1.1.9 2 2 2h14c1.1 0 2-.9 2-2V5c0-1.1-.9-2-2-2zM9 17H7v-7h2v7zm4 0h-2V7h2v10zm4 0h-2v-4h2v4z\"/>\n",
              "    </g>\n",
              "</svg>\n",
              "  </button>\n",
              "\n",
              "<style>\n",
              "  .colab-df-quickchart {\n",
              "      --bg-color: #E8F0FE;\n",
              "      --fill-color: #1967D2;\n",
              "      --hover-bg-color: #E2EBFA;\n",
              "      --hover-fill-color: #174EA6;\n",
              "      --disabled-fill-color: #AAA;\n",
              "      --disabled-bg-color: #DDD;\n",
              "  }\n",
              "\n",
              "  [theme=dark] .colab-df-quickchart {\n",
              "      --bg-color: #3B4455;\n",
              "      --fill-color: #D2E3FC;\n",
              "      --hover-bg-color: #434B5C;\n",
              "      --hover-fill-color: #FFFFFF;\n",
              "      --disabled-bg-color: #3B4455;\n",
              "      --disabled-fill-color: #666;\n",
              "  }\n",
              "\n",
              "  .colab-df-quickchart {\n",
              "    background-color: var(--bg-color);\n",
              "    border: none;\n",
              "    border-radius: 50%;\n",
              "    cursor: pointer;\n",
              "    display: none;\n",
              "    fill: var(--fill-color);\n",
              "    height: 32px;\n",
              "    padding: 0;\n",
              "    width: 32px;\n",
              "  }\n",
              "\n",
              "  .colab-df-quickchart:hover {\n",
              "    background-color: var(--hover-bg-color);\n",
              "    box-shadow: 0 1px 2px rgba(60, 64, 67, 0.3), 0 1px 3px 1px rgba(60, 64, 67, 0.15);\n",
              "    fill: var(--button-hover-fill-color);\n",
              "  }\n",
              "\n",
              "  .colab-df-quickchart-complete:disabled,\n",
              "  .colab-df-quickchart-complete:disabled:hover {\n",
              "    background-color: var(--disabled-bg-color);\n",
              "    fill: var(--disabled-fill-color);\n",
              "    box-shadow: none;\n",
              "  }\n",
              "\n",
              "  .colab-df-spinner {\n",
              "    border: 2px solid var(--fill-color);\n",
              "    border-color: transparent;\n",
              "    border-bottom-color: var(--fill-color);\n",
              "    animation:\n",
              "      spin 1s steps(1) infinite;\n",
              "  }\n",
              "\n",
              "  @keyframes spin {\n",
              "    0% {\n",
              "      border-color: transparent;\n",
              "      border-bottom-color: var(--fill-color);\n",
              "      border-left-color: var(--fill-color);\n",
              "    }\n",
              "    20% {\n",
              "      border-color: transparent;\n",
              "      border-left-color: var(--fill-color);\n",
              "      border-top-color: var(--fill-color);\n",
              "    }\n",
              "    30% {\n",
              "      border-color: transparent;\n",
              "      border-left-color: var(--fill-color);\n",
              "      border-top-color: var(--fill-color);\n",
              "      border-right-color: var(--fill-color);\n",
              "    }\n",
              "    40% {\n",
              "      border-color: transparent;\n",
              "      border-right-color: var(--fill-color);\n",
              "      border-top-color: var(--fill-color);\n",
              "    }\n",
              "    60% {\n",
              "      border-color: transparent;\n",
              "      border-right-color: var(--fill-color);\n",
              "    }\n",
              "    80% {\n",
              "      border-color: transparent;\n",
              "      border-right-color: var(--fill-color);\n",
              "      border-bottom-color: var(--fill-color);\n",
              "    }\n",
              "    90% {\n",
              "      border-color: transparent;\n",
              "      border-bottom-color: var(--fill-color);\n",
              "    }\n",
              "  }\n",
              "</style>\n",
              "\n",
              "  <script>\n",
              "    async function quickchart(key) {\n",
              "      const quickchartButtonEl =\n",
              "        document.querySelector('#' + key + ' button');\n",
              "      quickchartButtonEl.disabled = true;  // To prevent multiple clicks.\n",
              "      quickchartButtonEl.classList.add('colab-df-spinner');\n",
              "      try {\n",
              "        const charts = await google.colab.kernel.invokeFunction(\n",
              "            'suggestCharts', [key], {});\n",
              "      } catch (error) {\n",
              "        console.error('Error during call to suggestCharts:', error);\n",
              "      }\n",
              "      quickchartButtonEl.classList.remove('colab-df-spinner');\n",
              "      quickchartButtonEl.classList.add('colab-df-quickchart-complete');\n",
              "    }\n",
              "    (() => {\n",
              "      let quickchartButtonEl =\n",
              "        document.querySelector('#df-eb0cc857-bc2b-4b6b-9bb8-f712b0f1974b button');\n",
              "      quickchartButtonEl.style.display =\n",
              "        google.colab.kernel.accessAllowed ? 'block' : 'none';\n",
              "    })();\n",
              "  </script>\n",
              "</div>\n",
              "\n",
              "    </div>\n",
              "  </div>\n"
            ],
            "application/vnd.google.colaboratory.intrinsic+json": {
              "type": "dataframe",
              "variable_name": "rmsd_df",
              "summary": "{\n  \"name\": \"rmsd_df\",\n  \"rows\": 20,\n  \"fields\": [\n    {\n      \"column\": \"time\",\n      \"properties\": {\n        \"dtype\": \"number\",\n        \"std\": 5.916079977440119,\n        \"min\": 0.0,\n        \"max\": 19.000000624141272,\n        \"num_unique_values\": 20,\n        \"samples\": [\n          0.0,\n          17.000000558442192,\n          15.00000049274311\n        ],\n        \"semantic_type\": \"\",\n        \"description\": \"\"\n      }\n    },\n    {\n      \"column\": \"Backbone\",\n      \"properties\": {\n        \"dtype\": \"number\",\n        \"std\": 0.31961925278000386,\n        \"min\": 9.334731754920891e-07,\n        \"max\": 1.4817845297925063,\n        \"num_unique_values\": 20,\n        \"samples\": [\n          9.334731754920891e-07,\n          1.35910975238581,\n          1.2141389167670027\n        ],\n        \"semantic_type\": \"\",\n        \"description\": \"\"\n      }\n    },\n    {\n      \"column\": \"C-alphas\",\n      \"properties\": {\n        \"dtype\": \"number\",\n        \"std\": 0.3181116991364485,\n        \"min\": 4.427852053837606e-07,\n        \"max\": 1.4685142651938974,\n        \"num_unique_values\": 20,\n        \"samples\": [\n          4.427852053837606e-07,\n          1.3539173204297084,\n          1.1991123304059608\n        ],\n        \"semantic_type\": \"\",\n        \"description\": \"\"\n      }\n    },\n    {\n      \"column\": \"Protein\",\n      \"properties\": {\n        \"dtype\": \"number\",\n        \"std\": 0.43530153001238403,\n        \"min\": 4.2875435829842586e-07,\n        \"max\": 2.0334564387542406,\n        \"num_unique_values\": 20,\n        \"samples\": [\n          4.2875435829842586e-07,\n          1.9524734245097408,\n          1.8154745171990279\n        ],\n        \"semantic_type\": \"\",\n        \"description\": \"\"\n      }\n    }\n  ]\n}"
            }
          },
          "metadata": {},
          "execution_count": 5
        }
      ],
      "source": [
        "# make a pretty data frame using pandas\n",
        "rmsd_df = pd.DataFrame(rmsd_analysis.results.rmsd[:, 1:],\n",
        "                       columns=['time', 'Backbone', 'C-alphas', 'Protein'])\n",
        "\n",
        "# save this information as a CSV file\n",
        "rmsd_df.to_csv('outputs/RMSD_df.csv')\n",
        "\n",
        "# show the first five rows to make sure it looks right\n",
        "rmsd_df.head()"
      ]
    },
    {
      "cell_type": "code",
      "execution_count": 6,
      "id": "3cfc38c6",
      "metadata": {
        "colab": {
          "base_uri": "https://localhost:8080/",
          "height": 449
        },
        "id": "3cfc38c6",
        "outputId": "43f8eebc-b986-4780-a068-39efe37cb937"
      },
      "outputs": [
        {
          "output_type": "display_data",
          "data": {
            "text/plain": [
              "<Figure size 640x480 with 1 Axes>"
            ],
            "image/png": "[encoded data removed]"
          },
          "metadata": {}
        }
      ],
      "source": [
        "# show the data in frame (you can change the axes values as needed)\n",
        "fig, ax = pp.subplots()\n",
        "ax.plot(rmsd_df['time'], rmsd_df['Backbone'])\n",
        "ax.set(xlabel = 'time', ylabel = 'RMSD')\n",
        "\n",
        "# save the plot\n",
        "pp.savefig('outputs/rmsd_plot.png')"
      ]
    },
    {
      "cell_type": "markdown",
      "id": "YPtw1RZg-FHx",
      "metadata": {
        "id": "YPtw1RZg-FHx"
      },
      "source": [
        "The RMSD plot above gives a sense of whether the protein has reached a fixed state over the simulation but is not particularly good at comparing the structures overall. The code below will do a pairwise comparison of all the frames and show the data as a heatmap to suggest if there are conformational changes that appear consistently in your protein. A heatmap is a 2D data visualization technique that shows a visual summary of data across two axis. Consistent conformational changes could suggest a specific function within your protein, as structure = function!\n",
        "\n",
        "\n",
        "\n",
        "---\n",
        "## 3. Pairwise RMSD plot\n"
      ]
    },
    {
      "cell_type": "code",
      "execution_count": 7,
      "id": "wQwFnT82963-",
      "metadata": {
        "colab": {
          "base_uri": "https://localhost:8080/",
          "height": 449
        },
        "id": "wQwFnT82963-",
        "outputId": "0cf5a43d-0743-40d6-d365-d57d3e2800e6"
      },
      "outputs": [
        {
          "output_type": "display_data",
          "data": {
            "text/plain": [
              "<Figure size 640x480 with 2 Axes>"
            ],
            "image/png": "[encoded data removed]"
          },
          "metadata": {}
        }
      ],
      "source": [
        "# align the trajectory to itself pairwise\n",
        "aligner = align.AlignTraj(u, u, select='name CA',\n",
        "                          in_memory=True).run()\n",
        "matrix = diffusionmap.DistanceMatrix(u, select='name CA').run()\n",
        "\n",
        "# plot the pairwise alignment as a distribution\n",
        "pp.imshow(matrix.results.dist_matrix, cmap='viridis')\n",
        "pp.xlabel('Frame')\n",
        "pp.ylabel('Frame')\n",
        "pp.colorbar(label=r'RMSD ($\\AA$)');\n",
        "pp.savefig('outputs/rmsd_compare_plot.png')"
      ]
    },
    {
      "cell_type": "markdown",
      "id": "0_t4Qv5yEVaF",
      "metadata": {
        "id": "0_t4Qv5yEVaF"
      },
      "source": [
        "\n",
        "\n",
        "---\n",
        "## 4. Root Mean Square Flucuation plot\n",
        "\n",
        "The code below will calculate the root mean square fluctuation, effectively how much motion each amino acid has during the simulation. It is similar to RMSD, except instead of looking at positional differences in the entire structure over time, it will specify the movement/fluctuation of each residue during a simulation.\n",
        "\n",
        "\n",
        "\n",
        "---\n",
        "\n"
      ]
    },
    {
      "cell_type": "code",
      "execution_count": 8,
      "id": "97a8a670",
      "metadata": {
        "colab": {
          "base_uri": "https://localhost:8080/",
          "height": 651
        },
        "id": "97a8a670",
        "outputId": "077ed08b-9e73-4bb0-c823-50b8e7c0c907"
      },
      "outputs": [
        {
          "output_type": "stream",
          "name": "stderr",
          "text": [
            "/usr/local/lib/python3.10/site-packages/MDAnalysis/analysis/rms.py:904: DeprecationWarning: The `rmsf` attribute was deprecated in MDAnalysis 2.0.0 and will be removed in MDAnalysis 3.0.0. Please use `results.rmsd` instead.\n",
            "  warnings.warn(wmsg, DeprecationWarning)\n"
          ]
        },
        {
          "output_type": "display_data",
          "data": {
            "text/plain": [
              "<Figure size 800x600 with 1 Axes>"
            ],
            "image/png": "[encoded data removed]"
          },
          "metadata": {}
        }
      ],
      "source": [
        "# calculate the root mean square flucuation, effectively how much motion each amino acid has during the simulation\n",
        "calphas = u.select_atoms(\"name CA\") #Commonly the RMSD is computed using the aC of the protein to evaluate protein flucturation respecting the initial coordinates\n",
        "rmsfer = rms.RMSF(calphas,verbose=False).run()\n",
        "RMSF_table=pd.DataFrame(rmsfer.rmsf,index=calphas.resnums,columns=['RMSF']) #Saving the RMSF value for every aC residue\n",
        "# save the data\n",
        "RMSF_table.to_csv(\"outputs/RMSF_df.csv\")\n",
        "\n",
        "# make the plot\n",
        "pp.rcParams['axes.linewidth'] = 1.5\n",
        "fig, ax = pp.subplots(figsize=(8,6))\n",
        "\n",
        "pp.plot(calphas.resnums, rmsfer.rmsf,linewidth=1.5,color='k')\n",
        "\n",
        "pp.xlabel ('Residue Cα',fontsize=16,fontweight='bold')\n",
        "pp.ylabel ('RMSF (Å)',fontsize=16,fontweight='bold')\n",
        "\n",
        "ax.spines['top'].set_visible(False)\n",
        "ax.spines['right'].set_visible(False)\n",
        "\n",
        "pp.tick_params ('both',width=2,labelsize=12)\n",
        "pp.grid (axis='y',alpha=0.5)\n",
        "pp.tight_layout()\n",
        "pp.savefig('outputs/rmsf_plot.png')\n",
        "pp.show()\n",
        "# save the plot\n"
      ]
    },
    {
      "cell_type": "markdown",
      "id": "66OkIJNBYeTc",
      "metadata": {
        "id": "66OkIJNBYeTc"
      },
      "source": [
        "## 5. Predict pKa values\n",
        "This takes a bit of time (20+ minutes). Produces a spreadsheet of pKa at each step in the trajectory for each amino acid side chain that typically ionizes under biological conditions. The amino acids are indicated by residue number in the protein, so it may not exactly match the sequence numbering if the simulation uses a distinct numbering scheme.\n",
        "The describe cell gives a summary of the trajectory, while the to csv cell saves the entire set of data for plotting.\n",
        "\n",
        "**Make sure to only press PLAY once the previous run is complete!!**"
      ]
    },
    {
      "cell_type": "code",
      "execution_count": 9,
      "id": "nUykCI5Upc_1",
      "metadata": {
        "colab": {
          "base_uri": "https://localhost:8080/"
        },
        "id": "nUykCI5Upc_1",
        "outputId": "dcd2b781-0bbd-4ad4-816e-82b1e4f58d3a"
      },
      "outputs": [
        {
          "output_type": "stream",
          "name": "stderr",
          "text": [
            "/usr/local/lib/python3.10/site-packages/MDAnalysis/coordinates/PDB.py:1154: UserWarning: Found no information for attr: 'formalcharges' Using default value of '0'\n",
            "  warnings.warn(\"Found no information for attr: '{}'\"\n"
          ]
        },
        {
          "output_type": "execute_result",
          "data": {
            "text/plain": [
              "<propkatraj.propkatraj.PropkaTraj at 0x7e30cb0d4d30>"
            ]
          },
          "metadata": {},
          "execution_count": 9
        }
      ],
      "source": [
        "pkatraj = PropkaTraj(u, select='protein', skip_failure=False)\n",
        "pkatraj.run()"
      ]
    },
    {
      "cell_type": "code",
      "execution_count": 10,
      "id": "ovDrmhgdprKD",
      "metadata": {
        "colab": {
          "base_uri": "https://localhost:8080/",
          "height": 350
        },
        "id": "ovDrmhgdprKD",
        "outputId": "0749a8c6-d708-4a2a-e34d-ac1e68372ba6"
      },
      "outputs": [
        {
          "output_type": "execute_result",
          "data": {
            "text/plain": [
              "             1          3          6          18         22         32   \\\n",
              "count  20.000000  20.000000  20.000000  20.000000  20.000000  20.000000   \n",
              "mean    8.422629   4.294627  11.826248  14.311998  13.799403  10.358955   \n",
              "std     0.466943   0.337431   0.187534   0.200379   0.966196   0.172791   \n",
              "min     7.856161   3.750642  11.451997  13.836820  12.392866  10.019587   \n",
              "25%     7.970216   3.949476  11.714381  14.220156  12.943130  10.270404   \n",
              "50%     8.367309   4.506503  11.822077  14.321253  13.626163  10.397986   \n",
              "75%     8.893959   4.585508  11.951123  14.439439  14.377253  10.432200   \n",
              "max     8.997397   4.608529  12.149827  14.658119  15.973709  10.727798   \n",
              "\n",
              "             33         42         51         56   ...        646        648  \\\n",
              "count  20.000000  20.000000  20.000000  20.000000  ...  20.000000  20.000000   \n",
              "mean    3.164892   4.392735   4.261836   3.948249  ...  10.059924   3.530747   \n",
              "std     0.729558   0.204721   0.071011   0.391710  ...   0.158497   0.360061   \n",
              "min     1.916961   3.970708   4.139185   3.400135  ...   9.645622   3.001374   \n",
              "25%     2.379954   4.249387   4.208407   3.569840  ...  10.005774   3.257118   \n",
              "50%     3.358691   4.350519   4.257160   4.026805  ...  10.061802   3.369895   \n",
              "75%     3.819741   4.530706   4.314630   4.172077  ...  10.180317   3.901761   \n",
              "max     3.966598   4.738386   4.395652   4.627872  ...  10.306539   4.065888   \n",
              "\n",
              "             652        653        656        657        658        659  \\\n",
              "count  20.000000  20.000000  20.000000  20.000000  20.000000  20.000000   \n",
              "mean   10.738943   2.929561   4.143811   4.918820  10.096088   4.691935   \n",
              "std     0.369947   0.266158   0.501742   0.419333   0.258518   0.153837   \n",
              "min    10.442329   2.438892   3.226347   4.247499   9.712835   4.430589   \n",
              "25%    10.496530   2.760677   3.614642   4.569458   9.848244   4.557070   \n",
              "50%    10.597536   2.955648   4.426020   4.917021  10.144862   4.712990   \n",
              "75%    10.769423   3.076872   4.506137   5.244060  10.304918   4.776702   \n",
              "max    11.553328   3.519337   4.779442   5.552090  10.473248   4.991397   \n",
              "\n",
              "             663        668  \n",
              "count  20.000000  20.000000  \n",
              "mean    4.546222   2.613021  \n",
              "std     0.086450   0.455424  \n",
              "min     4.375403   1.939236  \n",
              "25%     4.504371   2.095369  \n",
              "50%     4.555441   2.903377  \n",
              "75%     4.604269   2.988678  \n",
              "max     4.682418   3.201750  \n",
              "\n",
              "[8 rows x 200 columns]"
            ],
            "text/html": [
              "\n",
              "  <div id=\"df-0b33bc5e-5f8f-41d5-ac68-57f3479791f7\" class=\"colab-df-container\">\n",
              "    <div>\n",
              "<style scoped>\n",
              "    .dataframe tbody tr th:only-of-type {\n",
              "        vertical-align: middle;\n",
              "    }\n",
              "\n",
              "    .dataframe tbody tr th {\n",
              "        vertical-align: top;\n",
              "    }\n",
              "\n",
              "    .dataframe thead th {\n",
              "        text-align: right;\n",
              "    }\n",
              "</style>\n",
              "<table border=\"1\" class=\"dataframe\">\n",
              "  <thead>\n",
              "    <tr style=\"text-align: right;\">\n",
              "      <th></th>\n",
              "      <th>1</th>\n",
              "      <th>3</th>\n",
              "      <th>6</th>\n",
              "      <th>18</th>\n",
              "      <th>22</th>\n",
              "      <th>32</th>\n",
              "      <th>33</th>\n",
              "      <th>42</th>\n",
              "      <th>51</th>\n",
              "      <th>56</th>\n",
              "      <th>...</th>\n",
              "      <th>646</th>\n",
              "      <th>648</th>\n",
              "      <th>652</th>\n",
              "      <th>653</th>\n",
              "      <th>656</th>\n",
              "      <th>657</th>\n",
              "      <th>658</th>\n",
              "      <th>659</th>\n",
              "      <th>663</th>\n",
              "      <th>668</th>\n",
              "    </tr>\n",
              "  </thead>\n",
              "  <tbody>\n",
              "    <tr>\n",
              "      <th>count</th>\n",
              "      <td>20.000000</td>\n",
              "      <td>20.000000</td>\n",
              "      <td>20.000000</td>\n",
              "      <td>20.000000</td>\n",
              "      <td>20.000000</td>\n",
              "      <td>20.000000</td>\n",
              "      <td>20.000000</td>\n",
              "      <td>20.000000</td>\n",
              "      <td>20.000000</td>\n",
              "      <td>20.000000</td>\n",
              "      <td>...</td>\n",
              "      <td>20.000000</td>\n",
              "      <td>20.000000</td>\n",
              "      <td>20.000000</td>\n",
              "      <td>20.000000</td>\n",
              "      <td>20.000000</td>\n",
              "      <td>20.000000</td>\n",
              "      <td>20.000000</td>\n",
              "      <td>20.000000</td>\n",
              "      <td>20.000000</td>\n",
              "      <td>20.000000</td>\n",
              "    </tr>\n",
              "    <tr>\n",
              "      <th>mean</th>\n",
              "      <td>8.422629</td>\n",
              "      <td>4.294627</td>\n",
              "      <td>11.826248</td>\n",
              "      <td>14.311998</td>\n",
              "      <td>13.799403</td>\n",
              "      <td>10.358955</td>\n",
              "      <td>3.164892</td>\n",
              "      <td>4.392735</td>\n",
              "      <td>4.261836</td>\n",
              "      <td>3.948249</td>\n",
              "      <td>...</td>\n",
              "      <td>10.059924</td>\n",
              "      <td>3.530747</td>\n",
              "      <td>10.738943</td>\n",
              "      <td>2.929561</td>\n",
              "      <td>4.143811</td>\n",
              "      <td>4.918820</td>\n",
              "      <td>10.096088</td>\n",
              "      <td>4.691935</td>\n",
              "      <td>4.546222</td>\n",
              "      <td>2.613021</td>\n",
              "    </tr>\n",
              "    <tr>\n",
              "      <th>std</th>\n",
              "      <td>0.466943</td>\n",
              "      <td>0.337431</td>\n",
              "      <td>0.187534</td>\n",
              "      <td>0.200379</td>\n",
              "      <td>0.966196</td>\n",
              "      <td>0.172791</td>\n",
              "      <td>0.729558</td>\n",
              "      <td>0.204721</td>\n",
              "      <td>0.071011</td>\n",
              "      <td>0.391710</td>\n",
              "      <td>...</td>\n",
              "      <td>0.158497</td>\n",
              "      <td>0.360061</td>\n",
              "      <td>0.369947</td>\n",
              "      <td>0.266158</td>\n",
              "      <td>0.501742</td>\n",
              "      <td>0.419333</td>\n",
              "      <td>0.258518</td>\n",
              "      <td>0.153837</td>\n",
              "      <td>0.086450</td>\n",
              "      <td>0.455424</td>\n",
              "    </tr>\n",
              "    <tr>\n",
              "      <th>min</th>\n",
              "      <td>7.856161</td>\n",
              "      <td>3.750642</td>\n",
              "      <td>11.451997</td>\n",
              "      <td>13.836820</td>\n",
              "      <td>12.392866</td>\n",
              "      <td>10.019587</td>\n",
              "      <td>1.916961</td>\n",
              "      <td>3.970708</td>\n",
              "      <td>4.139185</td>\n",
              "      <td>3.400135</td>\n",
              "      <td>...</td>\n",
              "      <td>9.645622</td>\n",
              "      <td>3.001374</td>\n",
              "      <td>10.442329</td>\n",
              "      <td>2.438892</td>\n",
              "      <td>3.226347</td>\n",
              "      <td>4.247499</td>\n",
              "      <td>9.712835</td>\n",
              "      <td>4.430589</td>\n",
              "      <td>4.375403</td>\n",
              "      <td>1.939236</td>\n",
              "    </tr>\n",
              "    <tr>\n",
              "      <th>25%</th>\n",
              "      <td>7.970216</td>\n",
              "      <td>3.949476</td>\n",
              "      <td>11.714381</td>\n",
              "      <td>14.220156</td>\n",
              "      <td>12.943130</td>\n",
              "      <td>10.270404</td>\n",
              "      <td>2.379954</td>\n",
              "      <td>4.249387</td>\n",
              "      <td>4.208407</td>\n",
              "      <td>3.569840</td>\n",
              "      <td>...</td>\n",
              "      <td>10.005774</td>\n",
              "      <td>3.257118</td>\n",
              "      <td>10.496530</td>\n",
              "      <td>2.760677</td>\n",
              "      <td>3.614642</td>\n",
              "      <td>4.569458</td>\n",
              "      <td>9.848244</td>\n",
              "      <td>4.557070</td>\n",
              "      <td>4.504371</td>\n",
              "      <td>2.095369</td>\n",
              "    </tr>\n",
              "    <tr>\n",
              "      <th>50%</th>\n",
              "      <td>8.367309</td>\n",
              "      <td>4.506503</td>\n",
              "      <td>11.822077</td>\n",
              "      <td>14.321253</td>\n",
              "      <td>13.626163</td>\n",
              "      <td>10.397986</td>\n",
              "      <td>3.358691</td>\n",
              "      <td>4.350519</td>\n",
              "      <td>4.257160</td>\n",
              "      <td>4.026805</td>\n",
              "      <td>...</td>\n",
              "      <td>10.061802</td>\n",
              "      <td>3.369895</td>\n",
              "      <td>10.597536</td>\n",
              "      <td>2.955648</td>\n",
              "      <td>4.426020</td>\n",
              "      <td>4.917021</td>\n",
              "      <td>10.144862</td>\n",
              "      <td>4.712990</td>\n",
              "      <td>4.555441</td>\n",
              "      <td>2.903377</td>\n",
              "    </tr>\n",
              "    <tr>\n",
              "      <th>75%</th>\n",
              "      <td>8.893959</td>\n",
              "      <td>4.585508</td>\n",
              "      <td>11.951123</td>\n",
              "      <td>14.439439</td>\n",
              "      <td>14.377253</td>\n",
              "      <td>10.432200</td>\n",
              "      <td>3.819741</td>\n",
              "      <td>4.530706</td>\n",
              "      <td>4.314630</td>\n",
              "      <td>4.172077</td>\n",
              "      <td>...</td>\n",
              "      <td>10.180317</td>\n",
              "      <td>3.901761</td>\n",
              "      <td>10.769423</td>\n",
              "      <td>3.076872</td>\n",
              "      <td>4.506137</td>\n",
              "      <td>5.244060</td>\n",
              "      <td>10.304918</td>\n",
              "      <td>4.776702</td>\n",
              "      <td>4.604269</td>\n",
              "      <td>2.988678</td>\n",
              "    </tr>\n",
              "    <tr>\n",
              "      <th>max</th>\n",
              "      <td>8.997397</td>\n",
              "      <td>4.608529</td>\n",
              "      <td>12.149827</td>\n",
              "      <td>14.658119</td>\n",
              "      <td>15.973709</td>\n",
              "      <td>10.727798</td>\n",
              "      <td>3.966598</td>\n",
              "      <td>4.738386</td>\n",
              "      <td>4.395652</td>\n",
              "      <td>4.627872</td>\n",
              "      <td>...</td>\n",
              "      <td>10.306539</td>\n",
              "      <td>4.065888</td>\n",
              "      <td>11.553328</td>\n",
              "      <td>3.519337</td>\n",
              "      <td>4.779442</td>\n",
              "      <td>5.552090</td>\n",
              "      <td>10.473248</td>\n",
              "      <td>4.991397</td>\n",
              "      <td>4.682418</td>\n",
              "      <td>3.201750</td>\n",
              "    </tr>\n",
              "  </tbody>\n",
              "</table>\n",
              "<p>8 rows × 200 columns</p>\n",
              "</div>\n",
              "    <div class=\"colab-df-buttons\">\n",
              "\n",
              "  <div class=\"colab-df-container\">\n",
              "    <button class=\"colab-df-convert\" onclick=\"convertToInteractive('df-0b33bc5e-5f8f-41d5-ac68-57f3479791f7')\"\n",
              "            title=\"Convert this dataframe to an interactive table.\"\n",
              "            style=\"display:none;\">\n",
              "\n",
              "  <svg xmlns=\"http://www.w3.org/2000/svg\" height=\"24px\" viewBox=\"0 -960 960 960\">\n",
              "    <path d=\"M120-120v-720h720v720H120Zm60-500h600v-160H180v160Zm220 220h160v-160H400v160Zm0 220h160v-160H400v160ZM180-400h160v-160H180v160Zm440 0h160v-160H620v160ZM180-180h160v-160H180v160Zm440 0h160v-160H620v160Z\"/>\n",
              "  </svg>\n",
              "    </button>\n",
              "\n",
              "  <style>\n",
              "    .colab-df-container {\n",
              "      display:flex;\n",
              "      gap: 12px;\n",
              "    }\n",
              "\n",
              "    .colab-df-convert {\n",
              "      background-color: #E8F0FE;\n",
              "      border: none;\n",
              "      border-radius: 50%;\n",
              "      cursor: pointer;\n",
              "      display: none;\n",
              "      fill: #1967D2;\n",
              "      height: 32px;\n",
              "      padding: 0 0 0 0;\n",
              "      width: 32px;\n",
              "    }\n",
              "\n",
              "    .colab-df-convert:hover {\n",
              "      background-color: #E2EBFA;\n",
              "      box-shadow: 0px 1px 2px rgba(60, 64, 67, 0.3), 0px 1px 3px 1px rgba(60, 64, 67, 0.15);\n",
              "      fill: #174EA6;\n",
              "    }\n",
              "\n",
              "    .colab-df-buttons div {\n",
              "      margin-bottom: 4px;\n",
              "    }\n",
              "\n",
              "    [theme=dark] .colab-df-convert {\n",
              "      background-color: #3B4455;\n",
              "      fill: #D2E3FC;\n",
              "    }\n",
              "\n",
              "    [theme=dark] .colab-df-convert:hover {\n",
              "      background-color: #434B5C;\n",
              "      box-shadow: 0px 1px 3px 1px rgba(0, 0, 0, 0.15);\n",
              "      filter: drop-shadow(0px 1px 2px rgba(0, 0, 0, 0.3));\n",
              "      fill: #FFFFFF;\n",
              "    }\n",
              "  </style>\n",
              "\n",
              "    <script>\n",
              "      const buttonEl =\n",
              "        document.querySelector('#df-0b33bc5e-5f8f-41d5-ac68-57f3479791f7 button.colab-df-convert');\n",
              "      buttonEl.style.display =\n",
              "        google.colab.kernel.accessAllowed ? 'block' : 'none';\n",
              "\n",
              "      async function convertToInteractive(key) {\n",
              "        const element = document.querySelector('#df-0b33bc5e-5f8f-41d5-ac68-57f3479791f7');\n",
              "        const dataTable =\n",
              "          await google.colab.kernel.invokeFunction('convertToInteractive',\n",
              "                                                    [key], {});\n",
              "        if (!dataTable) return;\n",
              "\n",
              "        const docLinkHtml = 'Like what you see? Visit the ' +\n",
              "          '<a target=\"_blank\" href=https://colab.research.google.com/notebooks/data_table.ipynb>data table notebook</a>'\n",
              "          + ' to learn more about interactive tables.';\n",
              "        element.innerHTML = '';\n",
              "        dataTable['output_type'] = 'display_data';\n",
              "        await google.colab.output.renderOutput(dataTable, element);\n",
              "        const docLink = document.createElement('div');\n",
              "        docLink.innerHTML = docLinkHtml;\n",
              "        element.appendChild(docLink);\n",
              "      }\n",
              "    </script>\n",
              "  </div>\n",
              "\n",
              "\n",
              "<div id=\"df-9dcbc419-8c9e-4188-acd4-bc2e37a7ecbb\">\n",
              "  <button class=\"colab-df-quickchart\" onclick=\"quickchart('df-9dcbc419-8c9e-4188-acd4-bc2e37a7ecbb')\"\n",
              "            title=\"Suggest charts\"\n",
              "            style=\"display:none;\">\n",
              "\n",
              "<svg xmlns=\"http://www.w3.org/2000/svg\" height=\"24px\"viewBox=\"0 0 24 24\"\n",
              "     width=\"24px\">\n",
              "    <g>\n",
              "        <path d=\"M19 3H5c-1.1 0-2 .9-2 2v14c0 1.1.9 2 2 2h14c1.1 0 2-.9 2-2V5c0-1.1-.9-2-2-2zM9 17H7v-7h2v7zm4 0h-2V7h2v10zm4 0h-2v-4h2v4z\"/>\n",
              "    </g>\n",
              "</svg>\n",
              "  </button>\n",
              "\n",
              "<style>\n",
              "  .colab-df-quickchart {\n",
              "      --bg-color: #E8F0FE;\n",
              "      --fill-color: #1967D2;\n",
              "      --hover-bg-color: #E2EBFA;\n",
              "      --hover-fill-color: #174EA6;\n",
              "      --disabled-fill-color: #AAA;\n",
              "      --disabled-bg-color: #DDD;\n",
              "  }\n",
              "\n",
              "  [theme=dark] .colab-df-quickchart {\n",
              "      --bg-color: #3B4455;\n",
              "      --fill-color: #D2E3FC;\n",
              "      --hover-bg-color: #434B5C;\n",
              "      --hover-fill-color: #FFFFFF;\n",
              "      --disabled-bg-color: #3B4455;\n",
              "      --disabled-fill-color: #666;\n",
              "  }\n",
              "\n",
              "  .colab-df-quickchart {\n",
              "    background-color: var(--bg-color);\n",
              "    border: none;\n",
              "    border-radius: 50%;\n",
              "    cursor: pointer;\n",
              "    display: none;\n",
              "    fill: var(--fill-color);\n",
              "    height: 32px;\n",
              "    padding: 0;\n",
              "    width: 32px;\n",
              "  }\n",
              "\n",
              "  .colab-df-quickchart:hover {\n",
              "    background-color: var(--hover-bg-color);\n",
              "    box-shadow: 0 1px 2px rgba(60, 64, 67, 0.3), 0 1px 3px 1px rgba(60, 64, 67, 0.15);\n",
              "    fill: var(--button-hover-fill-color);\n",
              "  }\n",
              "\n",
              "  .colab-df-quickchart-complete:disabled,\n",
              "  .colab-df-quickchart-complete:disabled:hover {\n",
              "    background-color: var(--disabled-bg-color);\n",
              "    fill: var(--disabled-fill-color);\n",
              "    box-shadow: none;\n",
              "  }\n",
              "\n",
              "  .colab-df-spinner {\n",
              "    border: 2px solid var(--fill-color);\n",
              "    border-color: transparent;\n",
              "    border-bottom-color: var(--fill-color);\n",
              "    animation:\n",
              "      spin 1s steps(1) infinite;\n",
              "  }\n",
              "\n",
              "  @keyframes spin {\n",
              "    0% {\n",
              "      border-color: transparent;\n",
              "      border-bottom-color: var(--fill-color);\n",
              "      border-left-color: var(--fill-color);\n",
              "    }\n",
              "    20% {\n",
              "      border-color: transparent;\n",
              "      border-left-color: var(--fill-color);\n",
              "      border-top-color: var(--fill-color);\n",
              "    }\n",
              "    30% {\n",
              "      border-color: transparent;\n",
              "      border-left-color: var(--fill-color);\n",
              "      border-top-color: var(--fill-color);\n",
              "      border-right-color: var(--fill-color);\n",
              "    }\n",
              "    40% {\n",
              "      border-color: transparent;\n",
              "      border-right-color: var(--fill-color);\n",
              "      border-top-color: var(--fill-color);\n",
              "    }\n",
              "    60% {\n",
              "      border-color: transparent;\n",
              "      border-right-color: var(--fill-color);\n",
              "    }\n",
              "    80% {\n",
              "      border-color: transparent;\n",
              "      border-right-color: var(--fill-color);\n",
              "      border-bottom-color: var(--fill-color);\n",
              "    }\n",
              "    90% {\n",
              "      border-color: transparent;\n",
              "      border-bottom-color: var(--fill-color);\n",
              "    }\n",
              "  }\n",
              "</style>\n",
              "\n",
              "  <script>\n",
              "    async function quickchart(key) {\n",
              "      const quickchartButtonEl =\n",
              "        document.querySelector('#' + key + ' button');\n",
              "      quickchartButtonEl.disabled = true;  // To prevent multiple clicks.\n",
              "      quickchartButtonEl.classList.add('colab-df-spinner');\n",
              "      try {\n",
              "        const charts = await google.colab.kernel.invokeFunction(\n",
              "            'suggestCharts', [key], {});\n",
              "      } catch (error) {\n",
              "        console.error('Error during call to suggestCharts:', error);\n",
              "      }\n",
              "      quickchartButtonEl.classList.remove('colab-df-spinner');\n",
              "      quickchartButtonEl.classList.add('colab-df-quickchart-complete');\n",
              "    }\n",
              "    (() => {\n",
              "      let quickchartButtonEl =\n",
              "        document.querySelector('#df-9dcbc419-8c9e-4188-acd4-bc2e37a7ecbb button');\n",
              "      quickchartButtonEl.style.display =\n",
              "        google.colab.kernel.accessAllowed ? 'block' : 'none';\n",
              "    })();\n",
              "  </script>\n",
              "</div>\n",
              "\n",
              "    </div>\n",
              "  </div>\n"
            ],
            "application/vnd.google.colaboratory.intrinsic+json": {
              "type": "dataframe"
            }
          },
          "metadata": {},
          "execution_count": 10
        }
      ],
      "source": [
        "pkatraj.results.pkas.describe()"
      ]
    },
    {
      "cell_type": "code",
      "execution_count": 11,
      "id": "gsRNoz47q6ii",
      "metadata": {
        "id": "gsRNoz47q6ii"
      },
      "outputs": [],
      "source": [
        "pkatraj.results.pkas.to_csv(\"outputs/pkas_over_traj.csv\")"
      ]
    },
    {
      "cell_type": "markdown",
      "id": "eZTXFH3mARHA",
      "metadata": {
        "id": "eZTXFH3mARHA"
      },
      "source": [
        "**For this next section, you will need to change the \"xxx\" at the end of the line of code in the brackets to the number of the specific amino acid you would like to look at.** For example, if you want to look at the trajectory of amino acid 176, put that into the [ ]. If you have an error message show up, make sure that the amino acid number is present in your \"pkas_over_traj.csv\" file (you should see a column with that number). This will allow you to see differences in the amino acid that you have decided to change for your variant protein!"
      ]
    },
    {
      "cell_type": "code",
      "execution_count": 13,
      "id": "tNe2dz31CAPP",
      "metadata": {
        "colab": {
          "base_uri": "https://localhost:8080/",
          "height": 448
        },
        "id": "tNe2dz31CAPP",
        "outputId": "5a292041-f7ec-48a0-e8bf-4951f6cd426f"
      },
      "outputs": [
        {
          "output_type": "execute_result",
          "data": {
            "text/plain": [
              "[<matplotlib.lines.Line2D at 0x7e30c8d1b730>]"
            ]
          },
          "metadata": {},
          "execution_count": 13
        },
        {
          "output_type": "display_data",
          "data": {
            "text/plain": [
              "<Figure size 640x480 with 1 Axes>"
            ],
            "image/png": "[encoded data removed]"
          },
          "metadata": {}
        }
      ],
      "source": [
        "# to see one specific amino acid over the trajectory use the code below\n",
        "# change the number in the [] to be the amino acid number in the structure, remember the numbering may be different so check the numbering in the pdb file\n",
        "pp.plot(pkatraj.results.pkas.index,pkatraj.results.pkas[187])"
      ]
    },
    {
      "cell_type": "markdown",
      "id": "cfjjAY2sIk0J",
      "metadata": {
        "id": "cfjjAY2sIk0J"
      },
      "source": []
    },
    {
      "cell_type": "code",
      "execution_count": 14,
      "id": "hSssfTbJCORW",
      "metadata": {
        "colab": {
          "base_uri": "https://localhost:8080/",
          "height": 450
        },
        "id": "hSssfTbJCORW",
        "outputId": "e5252569-8d0e-4290-80d1-0c3f97920e6e"
      },
      "outputs": [
        {
          "output_type": "execute_result",
          "data": {
            "text/plain": [
              "<Axes: >"
            ]
          },
          "metadata": {},
          "execution_count": 14
        },
        {
          "output_type": "display_data",
          "data": {
            "text/plain": [
              "<Figure size 640x480 with 1 Axes>"
            ],
            "image/png": "[encoded data removed]"
          },
          "metadata": {}
        }
      ],
      "source": [
        "# to see multiple columns as a boxplot\n",
        "#replace xxx and yyy with the specific amino acid numbers. You can add more names by adding commas.\n",
        "df = pkatraj.results.pkas[[187, 162, 92, 42, 117]]\n",
        "# select a range of columns by column number, change the 0 and 78 to the range of column numbers remember to remove the '#'\n",
        "#df = pkatraj.results.pkas.iloc[:0:78]\n",
        "\n",
        "# results will be in the form of a boxplot\n",
        "df.boxplot()"
      ]
    },
    {
      "cell_type": "markdown",
      "id": "6NPHXIxa_tFh",
      "metadata": {
        "id": "6NPHXIxa_tFh"
      },
      "source": [
        "# Congrats, you have finished Step 2 of the MD Colab! :-)\n",
        "\n",
        "## **Don't forget to download the files in your outputs folder!!!**\n"
      ]
    },
    {
      "cell_type": "markdown",
      "id": "ke6p6IKx5jWq",
      "metadata": {
        "id": "ke6p6IKx5jWq"
      },
      "source": [
        "# Removing solvent from the trajectory\n",
        "\n",
        "## Run this first code if you need to remove water from your files! If you already ran the above code, then don't run this unless told to.\n",
        "\n",
        "Trajectory is a dynamic view of various properties in your protein, including atom coordinates, box size, velocities, and forces. Trajectory files looks at these variables as they change throughout time. We really only care about the protein in these simulations so we need to remove the waters and ions from the trajectory. This will greatly reduce the file size and the complexity.\n",
        "\n",
        "First we will load the trajectory (.dcd) and the parameters for where the atoms are and the bonds (.prmtop). We will then remove the solvent and save the trajectory without solvent. We will also save a .pdb file of the first frame to help resolve case issues later on with amino acid numbering or where the system started. It is possible to extract any of the structures along the trajectory if needed.\n",
        "\n",
        "---\n",
        "\n",
        "All you need to edit is the first box of code, where you will need to change the file names. Otherwise, no edits are necessary and you can press PLAY."
      ]
    },
    {
      "cell_type": "code",
      "execution_count": null,
      "id": "1cb8e75b",
      "metadata": {
        "id": "1cb8e75b",
        "colab": {
          "base_uri": "https://localhost:8080/",
          "height": 311
        },
        "outputId": "cb9e6323-59ea-444d-d1ca-5dec2c5c5077"
      },
      "outputs": [
        {
          "output_type": "error",
          "ename": "FileNotFoundError",
          "evalue": "[Errno 2] No such file or directory: 'data/model_prod.prmtop'",
          "traceback": [
            "\u001b[0;31m---------------------------------------------------------------------------\u001b[0m",
            "\u001b[0;31mFileNotFoundError\u001b[0m                         Traceback (most recent call last)",
            "\u001b[0;32m<ipython-input-9-73b424cb3f97>\u001b[0m in \u001b[0;36m<cell line: 2>\u001b[0;34m()\u001b[0m\n\u001b[1;32m      1\u001b[0m \u001b[0;31m# load the trajectories (you will need to change the file names)\u001b[0m\u001b[0;34m\u001b[0m\u001b[0;34m\u001b[0m\u001b[0m\n\u001b[0;32m----> 2\u001b[0;31m \u001b[0mt\u001b[0m \u001b[0;34m=\u001b[0m \u001b[0mmd\u001b[0m\u001b[0;34m.\u001b[0m\u001b[0mload\u001b[0m\u001b[0;34m(\u001b[0m\u001b[0;34m'data/model_prod.dcd'\u001b[0m\u001b[0;34m,\u001b[0m \u001b[0mtop\u001b[0m \u001b[0;34m=\u001b[0m \u001b[0;34m'data/model_prod.prmtop'\u001b[0m\u001b[0;34m)\u001b[0m\u001b[0;34m\u001b[0m\u001b[0;34m\u001b[0m\u001b[0m\n\u001b[0m",
            "\u001b[0;32m/usr/local/lib/python3.10/site-packages/mdtraj/core/trajectory.py\u001b[0m in \u001b[0;36mload\u001b[0;34m(filename_or_filenames, discard_overlapping_frames, **kwargs)\u001b[0m\n\u001b[1;32m    394\u001b[0m     \u001b[0mtopkwargs\u001b[0m\u001b[0;34m.\u001b[0m\u001b[0mpop\u001b[0m\u001b[0;34m(\u001b[0m\u001b[0;34m\"stride\"\u001b[0m\u001b[0;34m,\u001b[0m \u001b[0;32mNone\u001b[0m\u001b[0;34m)\u001b[0m\u001b[0;34m\u001b[0m\u001b[0;34m\u001b[0m\u001b[0m\n\u001b[1;32m    395\u001b[0m     \u001b[0mtopkwargs\u001b[0m\u001b[0;34m.\u001b[0m\u001b[0mpop\u001b[0m\u001b[0;34m(\u001b[0m\u001b[0;34m\"start\"\u001b[0m\u001b[0;34m,\u001b[0m \u001b[0;32mNone\u001b[0m\u001b[0;34m)\u001b[0m\u001b[0;34m\u001b[0m\u001b[0;34m\u001b[0m\u001b[0m\n\u001b[0;32m--> 396\u001b[0;31m     kwargs[\"top\"] = _parse_topology(\n\u001b[0m\u001b[1;32m    397\u001b[0m         \u001b[0mkwargs\u001b[0m\u001b[0;34m.\u001b[0m\u001b[0mget\u001b[0m\u001b[0;34m(\u001b[0m\u001b[0;34m\"top\"\u001b[0m\u001b[0;34m,\u001b[0m \u001b[0mfilename_or_filenames\u001b[0m\u001b[0;34m[\u001b[0m\u001b[0;36m0\u001b[0m\u001b[0;34m]\u001b[0m\u001b[0;34m)\u001b[0m\u001b[0;34m,\u001b[0m\u001b[0;34m\u001b[0m\u001b[0;34m\u001b[0m\u001b[0m\n\u001b[1;32m    398\u001b[0m         \u001b[0;34m**\u001b[0m\u001b[0mtopkwargs\u001b[0m\u001b[0;34m,\u001b[0m\u001b[0;34m\u001b[0m\u001b[0;34m\u001b[0m\u001b[0m\n",
            "\u001b[0;32m/usr/local/lib/python3.10/site-packages/mdtraj/core/trajectory.py\u001b[0m in \u001b[0;36m_parse_topology\u001b[0;34m(top, **kwargs)\u001b[0m\n\u001b[1;32m    171\u001b[0m         \u001b[0mtopology\u001b[0m \u001b[0;34m=\u001b[0m \u001b[0m_traj\u001b[0m\u001b[0;34m.\u001b[0m\u001b[0mtopology\u001b[0m\u001b[0;34m\u001b[0m\u001b[0;34m\u001b[0m\u001b[0m\n\u001b[1;32m    172\u001b[0m     \u001b[0;32melif\u001b[0m \u001b[0misinstance\u001b[0m\u001b[0;34m(\u001b[0m\u001b[0mtop\u001b[0m\u001b[0;34m,\u001b[0m \u001b[0;34m(\u001b[0m\u001b[0mstr\u001b[0m\u001b[0;34m,\u001b[0m \u001b[0mos\u001b[0m\u001b[0;34m.\u001b[0m\u001b[0mPathLike\u001b[0m\u001b[0;34m)\u001b[0m\u001b[0;34m)\u001b[0m \u001b[0;32mand\u001b[0m \u001b[0;34m(\u001b[0m\u001b[0mext\u001b[0m \u001b[0;32min\u001b[0m \u001b[0;34m[\u001b[0m\u001b[0;34m\".prmtop\"\u001b[0m\u001b[0;34m,\u001b[0m \u001b[0;34m\".parm7\"\u001b[0m\u001b[0;34m,\u001b[0m \u001b[0;34m\".prm7\"\u001b[0m\u001b[0;34m]\u001b[0m\u001b[0;34m)\u001b[0m\u001b[0;34m:\u001b[0m\u001b[0;34m\u001b[0m\u001b[0;34m\u001b[0m\u001b[0m\n\u001b[0;32m--> 173\u001b[0;31m         \u001b[0mtopology\u001b[0m \u001b[0;34m=\u001b[0m \u001b[0mload_prmtop\u001b[0m\u001b[0;34m(\u001b[0m\u001b[0mtop\u001b[0m\u001b[0;34m,\u001b[0m \u001b[0;34m**\u001b[0m\u001b[0mkwargs\u001b[0m\u001b[0;34m)\u001b[0m\u001b[0;34m\u001b[0m\u001b[0;34m\u001b[0m\u001b[0m\n\u001b[0m\u001b[1;32m    174\u001b[0m     \u001b[0;32melif\u001b[0m \u001b[0misinstance\u001b[0m\u001b[0;34m(\u001b[0m\u001b[0mtop\u001b[0m\u001b[0;34m,\u001b[0m \u001b[0;34m(\u001b[0m\u001b[0mstr\u001b[0m\u001b[0;34m,\u001b[0m \u001b[0mos\u001b[0m\u001b[0;34m.\u001b[0m\u001b[0mPathLike\u001b[0m\u001b[0;34m)\u001b[0m\u001b[0;34m)\u001b[0m \u001b[0;32mand\u001b[0m \u001b[0;34m(\u001b[0m\u001b[0mext\u001b[0m \u001b[0;32min\u001b[0m \u001b[0;34m[\u001b[0m\u001b[0;34m\".psf\"\u001b[0m\u001b[0;34m]\u001b[0m\u001b[0;34m)\u001b[0m\u001b[0;34m:\u001b[0m\u001b[0;34m\u001b[0m\u001b[0;34m\u001b[0m\u001b[0m\n\u001b[1;32m    175\u001b[0m         \u001b[0mtopology\u001b[0m \u001b[0;34m=\u001b[0m \u001b[0mload_psf\u001b[0m\u001b[0;34m(\u001b[0m\u001b[0mtop\u001b[0m\u001b[0;34m,\u001b[0m \u001b[0;34m**\u001b[0m\u001b[0mkwargs\u001b[0m\u001b[0;34m)\u001b[0m\u001b[0;34m\u001b[0m\u001b[0;34m\u001b[0m\u001b[0m\n",
            "\u001b[0;32m/usr/local/lib/python3.10/site-packages/mdtraj/formats/prmtop.py\u001b[0m in \u001b[0;36mload_prmtop\u001b[0;34m(filename, **kwargs)\u001b[0m\n\u001b[1;32m    118\u001b[0m     \u001b[0mignoring\u001b[0m \u001b[0;34m=\u001b[0m \u001b[0;32mFalse\u001b[0m\u001b[0;34m\u001b[0m\u001b[0;34m\u001b[0m\u001b[0m\n\u001b[1;32m    119\u001b[0m \u001b[0;34m\u001b[0m\u001b[0m\n\u001b[0;32m--> 120\u001b[0;31m     \u001b[0;32mwith\u001b[0m \u001b[0mopen\u001b[0m\u001b[0;34m(\u001b[0m\u001b[0mfilename\u001b[0m\u001b[0;34m)\u001b[0m \u001b[0;32mas\u001b[0m \u001b[0mf\u001b[0m\u001b[0;34m:\u001b[0m\u001b[0;34m\u001b[0m\u001b[0;34m\u001b[0m\u001b[0m\n\u001b[0m\u001b[1;32m    121\u001b[0m         \u001b[0;32mfor\u001b[0m \u001b[0mline\u001b[0m \u001b[0;32min\u001b[0m \u001b[0mf\u001b[0m\u001b[0;34m:\u001b[0m\u001b[0;34m\u001b[0m\u001b[0;34m\u001b[0m\u001b[0m\n\u001b[1;32m    122\u001b[0m             \u001b[0;32mif\u001b[0m \u001b[0mline\u001b[0m\u001b[0;34m[\u001b[0m\u001b[0;36m0\u001b[0m\u001b[0;34m]\u001b[0m \u001b[0;34m==\u001b[0m \u001b[0;34m\"%\"\u001b[0m\u001b[0;34m:\u001b[0m\u001b[0;34m\u001b[0m\u001b[0;34m\u001b[0m\u001b[0m\n",
            "\u001b[0;31mFileNotFoundError\u001b[0m: [Errno 2] No such file or directory: 'data/model_prod.prmtop'"
          ]
        }
      ],
      "source": [
        "# load the trajectories (you will need to change the file names)\n",
        "t = md.load('data/model_prod.dcd', top = 'data/model_prod.prmtop')"
      ]
    },
    {
      "cell_type": "code",
      "execution_count": null,
      "id": "5fa4ebd0",
      "metadata": {
        "id": "5fa4ebd0"
      },
      "outputs": [],
      "source": [
        "# remove the waters and ions to make the analysis simpler\n",
        "t2 = t.remove_solvent()"
      ]
    },
    {
      "cell_type": "code",
      "execution_count": null,
      "id": "59de0aba",
      "metadata": {
        "id": "59de0aba"
      },
      "outputs": [],
      "source": [
        "# check the size of the trajectory before and after solvent, atom number in t2 < t if remove solvent worked\n",
        "print(t)\n",
        "print(t2)"
      ]
    },
    {
      "cell_type": "code",
      "execution_count": null,
      "id": "6861d38d",
      "metadata": {
        "id": "6861d38d"
      },
      "outputs": [],
      "source": [
        "# save the no solvent trajectory and the first pdb file, we may save other structures in the trajectory later\n",
        "t2.save_dcd(\"outputs/traj_no_solvent.dcd\")\n",
        "# python starts with 0 as the first number\n",
        "t2[0].save_pdb(\"outputs/pdb_first.pdb\")"
      ]
    },
    {
      "cell_type": "code",
      "execution_count": null,
      "id": "iSGNiUNm6Yoh",
      "metadata": {
        "id": "iSGNiUNm6Yoh"
      },
      "outputs": [],
      "source": [
        "# If you need a different frame based on later analysis:\n",
        "# 1) change the zero to the frame number\n",
        "# 2) change the xxx in the file name to the frame number\n",
        "# 3) remove the '#' in front of the command below and run the cell\n",
        "# t2[XXX].save_pdb(\"outputs/pdb_xxx.pdb\")"
      ]
    },
    {
      "cell_type": "markdown",
      "id": "et5VOV-XVhmu",
      "metadata": {
        "id": "et5VOV-XVhmu"
      },
      "source": [
        "\n",
        "At this point, you have three different trajectory files that you need to compare. You could copy the loading and processing cells above to bring in the other files OR process each individually and make a new colab for comparing the 3 trajectories. For simplicity, I suggest processing the trajectories individually, however if you do decide to process them all here, then remember that you cannot use t or t2 as variable names.\n"
      ]
    }
  ],
  "metadata": {
    "colab": {
      "collapsed_sections": [
        "ke6p6IKx5jWq"
      ],
      "provenance": []
    },
    "kernelspec": {
      "display_name": "Python 3 (ipykernel)",
      "language": "python",
      "name": "python3"
    },
    "language_info": {
      "codemirror_mode": {
        "name": "ipython",
        "version": 3
      },
      "file_extension": ".py",
      "mimetype": "text/x-python",
      "name": "python",
      "nbconvert_exporter": "python",
      "pygments_lexer": "ipython3",
      "version": "3.10.9"
    }
  },
  "nbformat": 4,
  "nbformat_minor": 5
}